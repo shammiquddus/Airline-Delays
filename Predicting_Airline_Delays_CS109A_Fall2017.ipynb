{
 "cells": [
  {
   "cell_type": "markdown",
   "metadata": {},
   "source": [
    "# CS 109A/STAT 121A/AC 209A/CSCI E-109A: \n",
    "# Midterm - 2017\n",
    "\n",
    "**Harvard University**<br/>\n",
    "**Fall 2017**<br/>\n",
    "**Instructors**: Pavlos Protopapas, Kevin Rader, Rahul Dave, Margo Levine\n",
    "\n",
    "---\n",
    "\n",
    "### INSTRUCTIONS\n",
    "\n",
    "\n",
    "- You must submit the Midterm on your own. ** No group submissions are allowed**. You may use any print or online resources but ** you may not work or consult with others**.\n",
    "- Restart the kernel and run the whole notebook again before you submit. \n",
    "- Please submit both a notebook and a pdf.\n",
    " \n",
    "\n",
    "---"
   ]
  },
  {
   "cell_type": "markdown",
   "metadata": {},
   "source": [
    "\n",
    "## Flight Delays\n",
    "\n",
    "The U.S. Department of Transportation's (DOT) Bureau of Transportation Statistics tracks the on-time performance of domestic flights operated by large air carriers. Summary information on the number of on-time, delayed, canceled, and diverted flights are published in DOT's monthly Air Travel Consumer Report and in this dataset of 2015 flight delays and cancellations.\n",
    "\n",
    "\n",
    "## Data\n",
    "Each entry of the flights.csv file corresponds to a flight.  More than 5,800,000 flights were recorded in 2015. These flights are described according to 31 variables. Further details of these variables can be found <a href='https://www.transtats.bts.gov/DL_SelectFields.asp?Table_ID=236&DB_Short_Name=On-Time'>here</a>, if you are interested (not needed to answer these questions). \n",
    "\n",
    "\n",
    " \n",
    "\n",
    "|          Name          | Type | DESCRIPTION |\n",
    "|--------------------------------|---|----------------------------------------------------------------------|\n",
    "| DATE                     | object | The date in python datetime format |\n",
    "| MONTH                     | int64 | The month of the year(1-12) |\n",
    "| DAY                       | int64 | The day of the month |\n",
    "| DAY_OF_WEEK               | int64 | The day of the week(1-7, MON-SUN) |\n",
    "| AIRLINE                  | object | An identifier for the airline |\n",
    "| FLIGHT_NUMBER             | int64 | The flight number |\n",
    "| TAIL_NUMBER              | object | The tail number (aircraft) corresponding to this flight |\n",
    "| ORIGIN_AIRPORT           | object | The code for origin airport |\n",
    "| DESTINATION_AIRPORT      | object | The code for destination airport |\n",
    "| SCHED_DEP                | object | The departure time in python datetime.time format |\n",
    "| SCHED_ARR                | object | The arrival time in python datetime.time format |\n",
    "| DEPARTURE_DELAY         |  float64| The delay incurred at the origin  (mins) |\n",
    "| ARRIVAL_DELAY           | float64 | The delay when the flight reached the (mins) destination |\n",
    "| DISTANCE                  | int64 | Distance in miles between origin and destination |\n",
    "| SCHEDULED_TIME          | float64 | Scheduled time of flight (minutes) |\n",
    "| ELAPSED_TIME            | float64 | Actual time of flight (minutes) |\n",
    "| AIR_SYSTEM_DELAY        | float64 | What part of the delay was NASD?(mins) |\n",
    "| SECURITY_DELAY          | float64 | What part of the delay was due to security problems? (mins) |\n",
    "| AIRLINE_DELAY           | float64 | What part of the delay is due to the airline? (mins) |\n",
    "| LATE_AIRCRAFT_DELAY     | float64 | What part of the delay is due to previous flight(s) being late(mins) |\n",
    "| WEATHER_DELAY           | float64 | Delay due to extreme weather events(min) |\n",
    "\n",
    "You can read more about the various weather delays [here](https://www.rita.dot.gov/bts/help/aviation/html/understanding.html) if you are so inclined.\n",
    "\n",
    "\n",
    "\n",
    "## Data/Caveats\n",
    "\n",
    "The data file, flights.csv, is found <a href=\"https://drive.google.com/file/d/0B9dVesTppCgHY0IwZHk3SGhjd00/view?usp=sharing\">here</a> (note, it is about 70MB). \n",
    "\n",
    "This data is already preprocessed, reduced, partially cleaned and therefore not identical to the original dataset."
   ]
  },
  {
   "cell_type": "markdown",
   "metadata": {},
   "source": [
    "## Problem Description"
   ]
  },
  {
   "cell_type": "markdown",
   "metadata": {},
   "source": [
    "We will build two separate models: one model that classifies whether a flight will be delayed and a second model that predicts the length of delay given that a flight is truly delayed. Only consider models taught in class so far. \n",
    "\n",
    "** Consider the following: **\n",
    "This is a large dataset; think of strategies on how to solve this problem. Create a manageable subsample of the data that you can use to train and test/validate, but eventually you should predict on all the data (excluding the training set).\n",
    "\n",
    "### Questions\n",
    "1. (5pts) Create a new variable, `DELAY_OR_NOT`: a boolean/indicator variable which indicates any arrival delay under 15 mins as a 0, and any delay at or above 15 mins as a 1 (`ARRIVAL_DELAY >= 15`).\n",
    "2. (5pts) Make sure you understand the data variable descriptions before you start the analysis. Consider all the columns and determine and list which of these predictors should not be used. \n",
    "3. (15pts) Perform EDA to gain intuition of the factors that affect delay and provide visuals: do delays vary across airlines, or time of departure, or airport (do, at the very least, Chicago (ORD), Boston (BOS), and your favorite another airport), or airport traffic?\n",
    "4. (20pts) Build a classification model that classifies delays according to `DELAY_OR_NOT`. This is an unbalanced dataset, thus consider the appropriate performance metric when reporting your results. \n",
    "5. (5pts) Given your model, comment on the importance of factors as related to whether a flight is delayed.\n",
    "6. (5pts) Evaluate your model(s) on your test set, and finally provide a visual to show which airlines are predicted to have the most delays using all the data excluding the training and test set. \n",
    "7. (15pts) Build a regression model that predicts the length of delay (on the log scale) given that a flight is truly delayed.\n",
    "8. (20pts) Write a report (in the last markdown cell in your notebook with your findings (without code)). Describe the main design decisions you have made with justifications. Clearly explain your methodology and results. This should not be more than 300 words. You may use up to 5 diagrams.\n",
    "\n"
   ]
  },
  {
   "cell_type": "code",
   "execution_count": 1260,
   "metadata": {
    "collapsed": true
   },
   "outputs": [],
   "source": [
    "import graphviz\n",
    "import numpy as np\n",
    "import pandas as pd\n",
    "import matplotlib\n",
    "import matplotlib.pyplot as plt\n",
    "from sklearn.linear_model import LogisticRegressionCV\n",
    "import sklearn.metrics as metrics\n",
    "from sklearn.preprocessing import PolynomialFeatures\n",
    "from sklearn.discriminant_analysis import LinearDiscriminantAnalysis\n",
    "from sklearn.discriminant_analysis import QuadraticDiscriminantAnalysis\n",
    "from sklearn.neighbors import KNeighborsClassifier\n",
    "from sklearn.tree import DecisionTreeClassifier\n",
    "from sklearn.model_selection import cross_val_score\n",
    "#import pydotplus\n",
    "#import io\n",
    "from sklearn.tree import export_graphviz\n",
    "from IPython.display import Image\n",
    "from IPython.display import display\n",
    "%matplotlib inline\n",
    "import seaborn as sns\n",
    "import warnings\n",
    "warnings.filterwarnings(\"ignore\")\n",
    "from sklearn import discriminant_analysis\n",
    "from sklearn.tree import export_graphviz\n",
    "from sklearn.model_selection import train_test_split\n",
    "\n",
    "import numpy as np\n",
    "import pandas as pd\n",
    "import matplotlib\n",
    "import matplotlib.pyplot as plt\n",
    "from sklearn.metrics import r2_score\n",
    "import statsmodels.api as sm\n",
    "from statsmodels.api import OLS\n",
    "from sklearn import linear_model, datasets\n",
    "from sklearn.preprocessing import PolynomialFeatures\n",
    "from sklearn.linear_model import Ridge\n",
    "from sklearn.linear_model import Lasso\n",
    "from sklearn.linear_model import RidgeCV\n",
    "from sklearn.linear_model import LassoCV\n",
    "import seaborn.apionly as sns\n",
    "from scipy import stats\n",
    "from sklearn.linear_model import LinearRegression\n",
    "from sklearn.metrics import mean_squared_error\n",
    "%matplotlib inline"
   ]
  },
  {
   "cell_type": "markdown",
   "metadata": {},
   "source": [
    "# Question 1"
   ]
  },
  {
   "cell_type": "code",
   "execution_count": 1261,
   "metadata": {
    "collapsed": true
   },
   "outputs": [],
   "source": [
    "#Loading dataset\n",
    "df = pd.read_csv('cs109a_midterm.csv')\n",
    "\n",
    "# Creating a new variable according to ARRIVAL_DELAY\n",
    "df[\"DELAY_OR_NOT\"]=\"\"\n",
    "df[\"DELAY_OR_NOT\"][df['ARRIVAL_DELAY']>=15]=1\n",
    "df[\"DELAY_OR_NOT\"][df['ARRIVAL_DELAY']<15]=0"
   ]
  },
  {
   "cell_type": "code",
   "execution_count": 1262,
   "metadata": {},
   "outputs": [
    {
     "name": "stdout",
     "output_type": "stream",
     "text": [
      "722834\n",
      "722834\n",
      "722834\n",
      "722834\n",
      "722834\n"
     ]
    }
   ],
   "source": [
    "print(sum(pd.isnull(df['AIR_SYSTEM_DELAY'])))\n",
    "print(sum(pd.isnull(df['SECURITY_DELAY'])))\n",
    "print(sum(pd.isnull(df['LATE_AIRCRAFT_DELAY'])))\n",
    "print(sum(pd.isnull(df['WEATHER_DELAY'])))\n",
    "print(sum(pd.isnull(df['AIRLINE_DELAY'])))\n",
    "# Most of the data points in this predictors are NaN"
   ]
  },
  {
   "cell_type": "code",
   "execution_count": 1263,
   "metadata": {},
   "outputs": [
    {
     "data": {
      "text/plain": [
       "(804941, 12)"
      ]
     },
     "execution_count": 1263,
     "metadata": {},
     "output_type": "execute_result"
    }
   ],
   "source": [
    "# From Q2, dropping columns which are not suitable as predictor. Explanation in Q2 below\n",
    "df=df.drop(['DATE', 'ARRIVAL_DELAY', 'SECURITY_DELAY', 'AIRLINE_DELAY','LATE_AIRCRAFT_DELAY','WEATHER_DELAY', 'AIR_SYSTEM_DELAY', 'DAY','TAIL_NUMBER', 'FLIGHT_NUMBER'], axis=1)\n",
    "df.shape"
   ]
  },
  {
   "cell_type": "code",
   "execution_count": 1264,
   "metadata": {},
   "outputs": [
    {
     "data": {
      "text/html": [
       "<div>\n",
       "<style>\n",
       "    .dataframe thead tr:only-child th {\n",
       "        text-align: right;\n",
       "    }\n",
       "\n",
       "    .dataframe thead th {\n",
       "        text-align: left;\n",
       "    }\n",
       "\n",
       "    .dataframe tbody tr th {\n",
       "        vertical-align: top;\n",
       "    }\n",
       "</style>\n",
       "<table border=\"1\" class=\"dataframe\">\n",
       "  <thead>\n",
       "    <tr style=\"text-align: right;\">\n",
       "      <th></th>\n",
       "      <th>MONTH</th>\n",
       "      <th>DAY_OF_WEEK</th>\n",
       "      <th>AIRLINE</th>\n",
       "      <th>ORIGIN_AIRPORT</th>\n",
       "      <th>DESTINATION_AIRPORT</th>\n",
       "      <th>SCHED_DEP</th>\n",
       "      <th>SCHED_ARR</th>\n",
       "      <th>DEPARTURE_DELAY</th>\n",
       "      <th>DISTANCE</th>\n",
       "      <th>SCHEDULED_TIME</th>\n",
       "      <th>ELAPSED_TIME</th>\n",
       "      <th>DELAY_OR_NOT</th>\n",
       "    </tr>\n",
       "  </thead>\n",
       "  <tbody>\n",
       "    <tr>\n",
       "      <th>0</th>\n",
       "      <td>9</td>\n",
       "      <td>6</td>\n",
       "      <td>AA</td>\n",
       "      <td>ORD</td>\n",
       "      <td>LGA</td>\n",
       "      <td>07:15:00</td>\n",
       "      <td>10:30:00</td>\n",
       "      <td>9.0</td>\n",
       "      <td>733</td>\n",
       "      <td>135.0</td>\n",
       "      <td>127.0</td>\n",
       "      <td>0</td>\n",
       "    </tr>\n",
       "    <tr>\n",
       "      <th>1</th>\n",
       "      <td>10</td>\n",
       "      <td>3</td>\n",
       "      <td>AA</td>\n",
       "      <td>11298</td>\n",
       "      <td>13342</td>\n",
       "      <td>20:15:00</td>\n",
       "      <td>22:44:00</td>\n",
       "      <td>0.0</td>\n",
       "      <td>853</td>\n",
       "      <td>149.0</td>\n",
       "      <td>118.0</td>\n",
       "      <td>0</td>\n",
       "    </tr>\n",
       "    <tr>\n",
       "      <th>2</th>\n",
       "      <td>8</td>\n",
       "      <td>3</td>\n",
       "      <td>MQ</td>\n",
       "      <td>XNA</td>\n",
       "      <td>ORD</td>\n",
       "      <td>12:22:00</td>\n",
       "      <td>14:10:00</td>\n",
       "      <td>-1.0</td>\n",
       "      <td>522</td>\n",
       "      <td>108.0</td>\n",
       "      <td>88.0</td>\n",
       "      <td>0</td>\n",
       "    </tr>\n",
       "    <tr>\n",
       "      <th>3</th>\n",
       "      <td>12</td>\n",
       "      <td>2</td>\n",
       "      <td>WN</td>\n",
       "      <td>PHX</td>\n",
       "      <td>BWI</td>\n",
       "      <td>11:20:00</td>\n",
       "      <td>17:40:00</td>\n",
       "      <td>11.0</td>\n",
       "      <td>1999</td>\n",
       "      <td>260.0</td>\n",
       "      <td>235.0</td>\n",
       "      <td>0</td>\n",
       "    </tr>\n",
       "    <tr>\n",
       "      <th>4</th>\n",
       "      <td>9</td>\n",
       "      <td>2</td>\n",
       "      <td>WN</td>\n",
       "      <td>MCI</td>\n",
       "      <td>DEN</td>\n",
       "      <td>14:10:00</td>\n",
       "      <td>14:55:00</td>\n",
       "      <td>-4.0</td>\n",
       "      <td>533</td>\n",
       "      <td>105.0</td>\n",
       "      <td>97.0</td>\n",
       "      <td>0</td>\n",
       "    </tr>\n",
       "  </tbody>\n",
       "</table>\n",
       "</div>"
      ],
      "text/plain": [
       "   MONTH  DAY_OF_WEEK AIRLINE ORIGIN_AIRPORT DESTINATION_AIRPORT SCHED_DEP  \\\n",
       "0      9            6      AA            ORD                 LGA  07:15:00   \n",
       "1     10            3      AA          11298               13342  20:15:00   \n",
       "2      8            3      MQ            XNA                 ORD  12:22:00   \n",
       "3     12            2      WN            PHX                 BWI  11:20:00   \n",
       "4      9            2      WN            MCI                 DEN  14:10:00   \n",
       "\n",
       "  SCHED_ARR  DEPARTURE_DELAY  DISTANCE  SCHEDULED_TIME  ELAPSED_TIME  \\\n",
       "0  10:30:00              9.0       733           135.0         127.0   \n",
       "1  22:44:00              0.0       853           149.0         118.0   \n",
       "2  14:10:00             -1.0       522           108.0          88.0   \n",
       "3  17:40:00             11.0      1999           260.0         235.0   \n",
       "4  14:55:00             -4.0       533           105.0          97.0   \n",
       "\n",
       "  DELAY_OR_NOT  \n",
       "0            0  \n",
       "1            0  \n",
       "2            0  \n",
       "3            0  \n",
       "4            0  "
      ]
     },
     "execution_count": 1264,
     "metadata": {},
     "output_type": "execute_result"
    }
   ],
   "source": [
    "df.head()"
   ]
  },
  {
   "cell_type": "code",
   "execution_count": 1265,
   "metadata": {},
   "outputs": [
    {
     "data": {
      "text/html": [
       "<div>\n",
       "<style>\n",
       "    .dataframe thead tr:only-child th {\n",
       "        text-align: right;\n",
       "    }\n",
       "\n",
       "    .dataframe thead th {\n",
       "        text-align: left;\n",
       "    }\n",
       "\n",
       "    .dataframe tbody tr th {\n",
       "        vertical-align: top;\n",
       "    }\n",
       "</style>\n",
       "<table border=\"1\" class=\"dataframe\">\n",
       "  <thead>\n",
       "    <tr style=\"text-align: right;\">\n",
       "      <th></th>\n",
       "      <th>MONTH</th>\n",
       "      <th>DAY_OF_WEEK</th>\n",
       "      <th>AIRLINE</th>\n",
       "      <th>ORIGIN_AIRPORT</th>\n",
       "      <th>DESTINATION_AIRPORT</th>\n",
       "      <th>SCHED_DEP</th>\n",
       "      <th>SCHED_ARR</th>\n",
       "      <th>DEPARTURE_DELAY</th>\n",
       "      <th>DISTANCE</th>\n",
       "      <th>SCHEDULED_TIME</th>\n",
       "      <th>ELAPSED_TIME</th>\n",
       "      <th>DELAY_OR_NOT</th>\n",
       "    </tr>\n",
       "  </thead>\n",
       "  <tbody>\n",
       "    <tr>\n",
       "      <th>0</th>\n",
       "      <td>9</td>\n",
       "      <td>6</td>\n",
       "      <td>AA</td>\n",
       "      <td>ORD</td>\n",
       "      <td>LGA</td>\n",
       "      <td>7.250000</td>\n",
       "      <td>10.500000</td>\n",
       "      <td>9.0</td>\n",
       "      <td>733</td>\n",
       "      <td>135.0</td>\n",
       "      <td>127.0</td>\n",
       "      <td>0</td>\n",
       "    </tr>\n",
       "    <tr>\n",
       "      <th>1</th>\n",
       "      <td>10</td>\n",
       "      <td>3</td>\n",
       "      <td>AA</td>\n",
       "      <td>11298</td>\n",
       "      <td>13342</td>\n",
       "      <td>20.250000</td>\n",
       "      <td>22.733333</td>\n",
       "      <td>0.0</td>\n",
       "      <td>853</td>\n",
       "      <td>149.0</td>\n",
       "      <td>118.0</td>\n",
       "      <td>0</td>\n",
       "    </tr>\n",
       "    <tr>\n",
       "      <th>2</th>\n",
       "      <td>8</td>\n",
       "      <td>3</td>\n",
       "      <td>MQ</td>\n",
       "      <td>XNA</td>\n",
       "      <td>ORD</td>\n",
       "      <td>12.366667</td>\n",
       "      <td>14.166667</td>\n",
       "      <td>-1.0</td>\n",
       "      <td>522</td>\n",
       "      <td>108.0</td>\n",
       "      <td>88.0</td>\n",
       "      <td>0</td>\n",
       "    </tr>\n",
       "    <tr>\n",
       "      <th>3</th>\n",
       "      <td>12</td>\n",
       "      <td>2</td>\n",
       "      <td>WN</td>\n",
       "      <td>PHX</td>\n",
       "      <td>BWI</td>\n",
       "      <td>11.333333</td>\n",
       "      <td>17.666667</td>\n",
       "      <td>11.0</td>\n",
       "      <td>1999</td>\n",
       "      <td>260.0</td>\n",
       "      <td>235.0</td>\n",
       "      <td>0</td>\n",
       "    </tr>\n",
       "    <tr>\n",
       "      <th>4</th>\n",
       "      <td>9</td>\n",
       "      <td>2</td>\n",
       "      <td>WN</td>\n",
       "      <td>MCI</td>\n",
       "      <td>DEN</td>\n",
       "      <td>14.166667</td>\n",
       "      <td>14.916667</td>\n",
       "      <td>-4.0</td>\n",
       "      <td>533</td>\n",
       "      <td>105.0</td>\n",
       "      <td>97.0</td>\n",
       "      <td>0</td>\n",
       "    </tr>\n",
       "  </tbody>\n",
       "</table>\n",
       "</div>"
      ],
      "text/plain": [
       "   MONTH  DAY_OF_WEEK AIRLINE ORIGIN_AIRPORT DESTINATION_AIRPORT  SCHED_DEP  \\\n",
       "0      9            6      AA            ORD                 LGA   7.250000   \n",
       "1     10            3      AA          11298               13342  20.250000   \n",
       "2      8            3      MQ            XNA                 ORD  12.366667   \n",
       "3     12            2      WN            PHX                 BWI  11.333333   \n",
       "4      9            2      WN            MCI                 DEN  14.166667   \n",
       "\n",
       "   SCHED_ARR  DEPARTURE_DELAY  DISTANCE  SCHEDULED_TIME  ELAPSED_TIME  \\\n",
       "0  10.500000              9.0       733           135.0         127.0   \n",
       "1  22.733333              0.0       853           149.0         118.0   \n",
       "2  14.166667             -1.0       522           108.0          88.0   \n",
       "3  17.666667             11.0      1999           260.0         235.0   \n",
       "4  14.916667             -4.0       533           105.0          97.0   \n",
       "\n",
       "  DELAY_OR_NOT  \n",
       "0            0  \n",
       "1            0  \n",
       "2            0  \n",
       "3            0  \n",
       "4            0  "
      ]
     },
     "execution_count": 1265,
     "metadata": {},
     "output_type": "execute_result"
    }
   ],
   "source": [
    "# CONVERTING CLOCK TIME TO SECONDS INTEGER (TOOK THREE HOURS) for x_train_dummy\n",
    "z = df['SCHED_DEP'].str.split(pat = ':', expand=True)\n",
    "x = z.values\n",
    "x = z.astype(float)\n",
    "x = pd.DataFrame(x)\n",
    "x.iloc[:,2:3]=x.iloc[:,2:3]*(1/3600)\n",
    "x.iloc[:,1:2]=x.iloc[:,1:2]*(1/60)\n",
    "x['sum']=x.sum(axis=1)\n",
    "df['SCHED_DEP']=x['sum']\n",
    "\n",
    "z = df['SCHED_ARR'].str.split(pat = ':', expand=True)\n",
    "x = z.values\n",
    "x = z.astype(float)\n",
    "x = pd.DataFrame(x)\n",
    "x.iloc[:,2:3]=x.iloc[:,2:3]*(1/3600)\n",
    "x.iloc[:,1:2]=x.iloc[:,1:2]*(1/60)\n",
    "x['sum']=x.sum(axis=1)\n",
    "df['SCHED_ARR']=x['sum']\n",
    "\n",
    "df.head()"
   ]
  },
  {
   "cell_type": "code",
   "execution_count": 1266,
   "metadata": {},
   "outputs": [
    {
     "data": {
      "text/plain": [
       "((120867, 12), (684074, 12))"
      ]
     },
     "execution_count": 1266,
     "metadata": {},
     "output_type": "execute_result"
    }
   ],
   "source": [
    "#splitting main dataset into a workable smaller data test and rest of the datatest which will be used for testing\n",
    "msk = np.random.rand(len(df)) < 0.15\n",
    "df_small = df[msk]\n",
    "df_rest = df[~msk]\n",
    "df_small.shape, df_rest.shape"
   ]
  },
  {
   "cell_type": "code",
   "execution_count": 1267,
   "metadata": {},
   "outputs": [
    {
     "data": {
      "text/plain": [
       "((120867, 11), (120867, 1), (684074, 11), (684074, 1))"
      ]
     },
     "execution_count": 1267,
     "metadata": {},
     "output_type": "execute_result"
    }
   ],
   "source": [
    "df_x = df_small.iloc[:, 0:11]\n",
    "df_y = df_small.iloc[:, 11:12]\n",
    "df_x_rest = df_rest.iloc[:, 0:11]\n",
    "df_y_rest = df_rest.iloc[:, 11:12]\n",
    "df_x.shape, df_y.shape, df_x_rest.shape, df_y_rest.shape"
   ]
  },
  {
   "cell_type": "code",
   "execution_count": 1268,
   "metadata": {},
   "outputs": [
    {
     "name": "stdout",
     "output_type": "stream",
     "text": [
      "shapes: (80980, 11) (80980, 1) (39887, 11) (39887, 1)\n"
     ]
    }
   ],
   "source": [
    "# creating the smaller train/test set on which we will do the bulk of the modelling work\n",
    "x_train_small, x_test_small, y_train_small, y_test_small= train_test_split(df_x, df_y, test_size = 0.33)\n",
    "print(\"shapes:\", x_train_small.shape, y_train_small.shape, x_test_small.shape, y_test_small.shape)"
   ]
  },
  {
   "cell_type": "markdown",
   "metadata": {},
   "source": [
    "# Question 2"
   ]
  },
  {
   "cell_type": "markdown",
   "metadata": {},
   "source": [
    "Which variables should not be used?\n",
    "- Date: this is unique number which will be never be repeated in the future (e.g. there will never be another 2015-06-25 again) thus is not practical. Drop it.\n",
    "- Arrival_delay: Since this has been used to create the Delay_or_not dependable variable this cannot be a predictor. Drop it.\n",
    "- Air system delay, Security delay, Late aircraft delay, Weather Delay: All of these variables have about 90% NaN which is too high to impute any missing values. Also these are explicit delays, very likely to cause actual delays in the arrival time thus common sense dictates that incurring any of these delay will most likely result in a delay of arrival. What could have been interesting is to parse how much a delay can be expected if any of these delays take place - however, the proportions of NaNs is too high for imputation. Drop them.\n",
    "- Day: 30 or 31 days in a month, when made into dummies will become 62 dummies. Besides the specific date of the month is less relevant compared to the day of the week. Most of the variance that will be in the day of the month will be captured by the day of the week predictor.\n",
    "- Tail number: I am assuming that with the tail number it will be possible to identify the make of plane hence some metrics about its performance, there are far too many unique tail numbers to be a useful predictor. Hence dropped it.\n",
    "\n",
    "Because I have complicated series of test-train splits I am going back up to quesiton 1 and dropping these from the main df, before I make teh train-test split in order to minimize teh drops."
   ]
  },
  {
   "cell_type": "code",
   "execution_count": 1269,
   "metadata": {},
   "outputs": [
    {
     "data": {
      "text/html": [
       "<div>\n",
       "<style>\n",
       "    .dataframe thead tr:only-child th {\n",
       "        text-align: right;\n",
       "    }\n",
       "\n",
       "    .dataframe thead th {\n",
       "        text-align: left;\n",
       "    }\n",
       "\n",
       "    .dataframe tbody tr th {\n",
       "        vertical-align: top;\n",
       "    }\n",
       "</style>\n",
       "<table border=\"1\" class=\"dataframe\">\n",
       "  <thead>\n",
       "    <tr style=\"text-align: right;\">\n",
       "      <th></th>\n",
       "      <th>MONTH</th>\n",
       "      <th>DAY_OF_WEEK</th>\n",
       "      <th>AIRLINE</th>\n",
       "      <th>ORIGIN_AIRPORT</th>\n",
       "      <th>DESTINATION_AIRPORT</th>\n",
       "      <th>SCHED_DEP</th>\n",
       "      <th>SCHED_ARR</th>\n",
       "      <th>DEPARTURE_DELAY</th>\n",
       "      <th>DISTANCE</th>\n",
       "      <th>SCHEDULED_TIME</th>\n",
       "      <th>ELAPSED_TIME</th>\n",
       "    </tr>\n",
       "  </thead>\n",
       "  <tbody>\n",
       "    <tr>\n",
       "      <th>740307</th>\n",
       "      <td>2</td>\n",
       "      <td>7</td>\n",
       "      <td>US</td>\n",
       "      <td>CLT</td>\n",
       "      <td>ATL</td>\n",
       "      <td>9.500000</td>\n",
       "      <td>10.783333</td>\n",
       "      <td>-8.0</td>\n",
       "      <td>226</td>\n",
       "      <td>77.0</td>\n",
       "      <td>63.0</td>\n",
       "    </tr>\n",
       "    <tr>\n",
       "      <th>791567</th>\n",
       "      <td>1</td>\n",
       "      <td>1</td>\n",
       "      <td>B6</td>\n",
       "      <td>FLL</td>\n",
       "      <td>LAX</td>\n",
       "      <td>11.616667</td>\n",
       "      <td>14.483333</td>\n",
       "      <td>3.0</td>\n",
       "      <td>2342</td>\n",
       "      <td>352.0</td>\n",
       "      <td>333.0</td>\n",
       "    </tr>\n",
       "    <tr>\n",
       "      <th>749228</th>\n",
       "      <td>1</td>\n",
       "      <td>5</td>\n",
       "      <td>AA</td>\n",
       "      <td>DCA</td>\n",
       "      <td>MIA</td>\n",
       "      <td>18.083333</td>\n",
       "      <td>20.816667</td>\n",
       "      <td>-1.0</td>\n",
       "      <td>919</td>\n",
       "      <td>164.0</td>\n",
       "      <td>160.0</td>\n",
       "    </tr>\n",
       "    <tr>\n",
       "      <th>796915</th>\n",
       "      <td>7</td>\n",
       "      <td>1</td>\n",
       "      <td>AS</td>\n",
       "      <td>SEA</td>\n",
       "      <td>JNU</td>\n",
       "      <td>7.666667</td>\n",
       "      <td>9.116667</td>\n",
       "      <td>9.0</td>\n",
       "      <td>909</td>\n",
       "      <td>147.0</td>\n",
       "      <td>149.0</td>\n",
       "    </tr>\n",
       "    <tr>\n",
       "      <th>588745</th>\n",
       "      <td>7</td>\n",
       "      <td>1</td>\n",
       "      <td>DL</td>\n",
       "      <td>ATL</td>\n",
       "      <td>TPA</td>\n",
       "      <td>10.583333</td>\n",
       "      <td>12.000000</td>\n",
       "      <td>-3.0</td>\n",
       "      <td>406</td>\n",
       "      <td>85.0</td>\n",
       "      <td>74.0</td>\n",
       "    </tr>\n",
       "  </tbody>\n",
       "</table>\n",
       "</div>"
      ],
      "text/plain": [
       "        MONTH  DAY_OF_WEEK AIRLINE ORIGIN_AIRPORT DESTINATION_AIRPORT  \\\n",
       "740307      2            7      US            CLT                 ATL   \n",
       "791567      1            1      B6            FLL                 LAX   \n",
       "749228      1            5      AA            DCA                 MIA   \n",
       "796915      7            1      AS            SEA                 JNU   \n",
       "588745      7            1      DL            ATL                 TPA   \n",
       "\n",
       "        SCHED_DEP  SCHED_ARR  DEPARTURE_DELAY  DISTANCE  SCHEDULED_TIME  \\\n",
       "740307   9.500000  10.783333             -8.0       226            77.0   \n",
       "791567  11.616667  14.483333              3.0      2342           352.0   \n",
       "749228  18.083333  20.816667             -1.0       919           164.0   \n",
       "796915   7.666667   9.116667              9.0       909           147.0   \n",
       "588745  10.583333  12.000000             -3.0       406            85.0   \n",
       "\n",
       "        ELAPSED_TIME  \n",
       "740307          63.0  \n",
       "791567         333.0  \n",
       "749228         160.0  \n",
       "796915         149.0  \n",
       "588745          74.0  "
      ]
     },
     "execution_count": 1269,
     "metadata": {},
     "output_type": "execute_result"
    }
   ],
   "source": [
    "x_train_small.head()"
   ]
  },
  {
   "cell_type": "markdown",
   "metadata": {},
   "source": [
    "# Question 3"
   ]
  },
  {
   "cell_type": "code",
   "execution_count": 1270,
   "metadata": {},
   "outputs": [
    {
     "name": "stdout",
     "output_type": "stream",
     "text": [
      "[[ 0.10173993]]\n",
      "Only 10.1% of the observations is delay = 1 data thus by classifying everything as delayed=0, we would be 90% accurate. Imbalanced data set\n"
     ]
    }
   ],
   "source": [
    "n = df_small['DELAY_OR_NOT'].value_counts()\n",
    "n = pd.DataFrame(n).values\n",
    "delay = (n[1:2]/(n[0:1]+n[1:2]))\n",
    "print(delay)\n",
    "print(\"Only 10.1% of the observations is delay = 1 data thus by classifying everything as delayed=0, we would be 90% accurate. Imbalanced data set\")"
   ]
  },
  {
   "cell_type": "code",
   "execution_count": 1271,
   "metadata": {},
   "outputs": [
    {
     "data": {
      "text/plain": [
       "(605, 4)"
      ]
     },
     "execution_count": 1271,
     "metadata": {},
     "output_type": "execute_result"
    }
   ],
   "source": [
    "a = df_small.groupby(by=['ORIGIN_AIRPORT'])['DELAY_OR_NOT'].sum()\n",
    "a = pd.DataFrame(a)\n",
    "b=df_small[\"ORIGIN_AIRPORT\"].value_counts()\n",
    "b = pd.DataFrame(b)\n",
    "c = pd.concat ([a, b], axis=1).reset_index()\n",
    "c['Average_delays']=c['DELAY_OR_NOT']/c['ORIGIN_AIRPORT']\n",
    "c.sort_values(['Average_delays'], ascending=False, inplace=True)\n",
    "c.shape"
   ]
  },
  {
   "cell_type": "code",
   "execution_count": 1272,
   "metadata": {},
   "outputs": [
    {
     "data": {
      "text/plain": [
       "<matplotlib.text.Text at 0x2189fe3e208>"
      ]
     },
     "execution_count": 1272,
     "metadata": {},
     "output_type": "execute_result"
    },
    {
     "data": {
      "image/png": "[encoded data removed]",
      "text/plain": [
       "<matplotlib.figure.Figure at 0x21893ffd1d0>"
      ]
     },
     "metadata": {},
     "output_type": "display_data"
    }
   ],
   "source": [
    "# BAR CHART FOR TOP TEN AIRPORTS \n",
    "plt.figure(figsize=(20, 20))\n",
    "#f, (ax1, ax2) =plt.subplots(1,2, sharey=True)\n",
    "airport = list(range(1,21))\n",
    "labels=c.iloc[:,0:1].values\n",
    "d=c.iloc[0:20, 3:4].values\n",
    "plt.xticks(airport, labels, rotation=45)\n",
    "plt.bar(airport,d )\n",
    "plt.title (\"Top 20 ORIGIN AIRPORTS with the highest % of delays\")"
   ]
  },
  {
   "cell_type": "code",
   "execution_count": 1273,
   "metadata": {},
   "outputs": [
    {
     "data": {
      "text/html": [
       "<div>\n",
       "<style>\n",
       "    .dataframe thead tr:only-child th {\n",
       "        text-align: right;\n",
       "    }\n",
       "\n",
       "    .dataframe thead th {\n",
       "        text-align: left;\n",
       "    }\n",
       "\n",
       "    .dataframe tbody tr th {\n",
       "        vertical-align: top;\n",
       "    }\n",
       "</style>\n",
       "<table border=\"1\" class=\"dataframe\">\n",
       "  <thead>\n",
       "    <tr style=\"text-align: right;\">\n",
       "      <th></th>\n",
       "      <th>index</th>\n",
       "      <th>DELAY_OR_NOT</th>\n",
       "      <th>DESTINATION_AIRPORT</th>\n",
       "      <th>Average_delays</th>\n",
       "    </tr>\n",
       "  </thead>\n",
       "  <tbody>\n",
       "    <tr>\n",
       "      <th>439</th>\n",
       "      <td>ITH</td>\n",
       "      <td>1</td>\n",
       "      <td>1</td>\n",
       "      <td>1.000000</td>\n",
       "    </tr>\n",
       "    <tr>\n",
       "      <th>512</th>\n",
       "      <td>PBG</td>\n",
       "      <td>4</td>\n",
       "      <td>4</td>\n",
       "      <td>1.000000</td>\n",
       "    </tr>\n",
       "    <tr>\n",
       "      <th>8</th>\n",
       "      <td>10170</td>\n",
       "      <td>1</td>\n",
       "      <td>1</td>\n",
       "      <td>1.000000</td>\n",
       "    </tr>\n",
       "    <tr>\n",
       "      <th>89</th>\n",
       "      <td>11617</td>\n",
       "      <td>1</td>\n",
       "      <td>1</td>\n",
       "      <td>1.000000</td>\n",
       "    </tr>\n",
       "    <tr>\n",
       "      <th>526</th>\n",
       "      <td>PSE</td>\n",
       "      <td>6</td>\n",
       "      <td>9</td>\n",
       "      <td>0.666667</td>\n",
       "    </tr>\n",
       "  </tbody>\n",
       "</table>\n",
       "</div>"
      ],
      "text/plain": [
       "     index  DELAY_OR_NOT  DESTINATION_AIRPORT  Average_delays\n",
       "439    ITH             1                    1        1.000000\n",
       "512    PBG             4                    4        1.000000\n",
       "8    10170             1                    1        1.000000\n",
       "89   11617             1                    1        1.000000\n",
       "526    PSE             6                    9        0.666667"
      ]
     },
     "execution_count": 1273,
     "metadata": {},
     "output_type": "execute_result"
    }
   ],
   "source": [
    "a = df_small.groupby(by=['DESTINATION_AIRPORT'])['DELAY_OR_NOT'].sum()\n",
    "a = pd.DataFrame(a)\n",
    "b=df_small[\"DESTINATION_AIRPORT\"].value_counts()\n",
    "b = pd.DataFrame(b)\n",
    "c = pd.concat ([a, b], axis=1).reset_index()\n",
    "c['Average_delays']=c['DELAY_OR_NOT']/c['DESTINATION_AIRPORT']\n",
    "c.sort_values(['Average_delays'], ascending=False, inplace=True)\n",
    "c.shape\n",
    "c.head()"
   ]
  },
  {
   "cell_type": "code",
   "execution_count": 1274,
   "metadata": {},
   "outputs": [
    {
     "data": {
      "text/plain": [
       "<matplotlib.text.Text at 0x2189e6dfdd8>"
      ]
     },
     "execution_count": 1274,
     "metadata": {},
     "output_type": "execute_result"
    },
    {
     "data": {
      "image/png": "[encoded data removed]",
      "text/plain": [
       "<matplotlib.figure.Figure at 0x21718139c18>"
      ]
     },
     "metadata": {},
     "output_type": "display_data"
    }
   ],
   "source": [
    "# BAR CHART FOR TOP20 DESTINATION AIRPORTS WITH DELAYS\n",
    "plt.figure(figsize=(20, 20))\n",
    "airport = list(range(1,21))\n",
    "labels=c.iloc[:,0:1].values\n",
    "d=c.iloc[0:20, 3:4].values\n",
    "plt.xticks(airport, labels, rotation=45)\n",
    "plt.bar(airport,d )\n",
    "plt.title (\"Top 20 DESTINATION AIRPORTS with the higher % of delays\")"
   ]
  },
  {
   "cell_type": "code",
   "execution_count": 1275,
   "metadata": {},
   "outputs": [
    {
     "name": "stdout",
     "output_type": "stream",
     "text": [
      "Thursday has the most number of delayed flights\n"
     ]
    },
    {
     "data": {
      "text/html": [
       "<div>\n",
       "<style>\n",
       "    .dataframe thead tr:only-child th {\n",
       "        text-align: right;\n",
       "    }\n",
       "\n",
       "    .dataframe thead th {\n",
       "        text-align: left;\n",
       "    }\n",
       "\n",
       "    .dataframe tbody tr th {\n",
       "        vertical-align: top;\n",
       "    }\n",
       "</style>\n",
       "<table border=\"1\" class=\"dataframe\">\n",
       "  <thead>\n",
       "    <tr style=\"text-align: right;\">\n",
       "      <th></th>\n",
       "      <th>DELAY_OR_NOT</th>\n",
       "    </tr>\n",
       "    <tr>\n",
       "      <th>DAY_OF_WEEK</th>\n",
       "      <th></th>\n",
       "    </tr>\n",
       "  </thead>\n",
       "  <tbody>\n",
       "    <tr>\n",
       "      <th>4</th>\n",
       "      <td>2301</td>\n",
       "    </tr>\n",
       "    <tr>\n",
       "      <th>1</th>\n",
       "      <td>2141</td>\n",
       "    </tr>\n",
       "    <tr>\n",
       "      <th>5</th>\n",
       "      <td>1958</td>\n",
       "    </tr>\n",
       "    <tr>\n",
       "      <th>3</th>\n",
       "      <td>1782</td>\n",
       "    </tr>\n",
       "    <tr>\n",
       "      <th>2</th>\n",
       "      <td>1677</td>\n",
       "    </tr>\n",
       "    <tr>\n",
       "      <th>7</th>\n",
       "      <td>1471</td>\n",
       "    </tr>\n",
       "    <tr>\n",
       "      <th>6</th>\n",
       "      <td>967</td>\n",
       "    </tr>\n",
       "  </tbody>\n",
       "</table>\n",
       "</div>"
      ],
      "text/plain": [
       "             DELAY_OR_NOT\n",
       "DAY_OF_WEEK              \n",
       "4                    2301\n",
       "1                    2141\n",
       "5                    1958\n",
       "3                    1782\n",
       "2                    1677\n",
       "7                    1471\n",
       "6                     967"
      ]
     },
     "execution_count": 1275,
     "metadata": {},
     "output_type": "execute_result"
    }
   ],
   "source": [
    "# WHICH DAY OF THE WEEK HAS THE MOST DELAYS\n",
    "a = df_small.groupby(by=['DAY_OF_WEEK'])['DELAY_OR_NOT'].sum()\n",
    "a= pd.DataFrame(a)\n",
    "a.sort_values(['DELAY_OR_NOT'], ascending=False, inplace=True)\n",
    "print(\"Thursday has the most number of delayed flights\")\n",
    "a"
   ]
  },
  {
   "cell_type": "code",
   "execution_count": 1276,
   "metadata": {},
   "outputs": [
    {
     "name": "stdout",
     "output_type": "stream",
     "text": [
      "June has the most number of delayed flights\n"
     ]
    },
    {
     "data": {
      "text/html": [
       "<div>\n",
       "<style>\n",
       "    .dataframe thead tr:only-child th {\n",
       "        text-align: right;\n",
       "    }\n",
       "\n",
       "    .dataframe thead th {\n",
       "        text-align: left;\n",
       "    }\n",
       "\n",
       "    .dataframe tbody tr th {\n",
       "        vertical-align: top;\n",
       "    }\n",
       "</style>\n",
       "<table border=\"1\" class=\"dataframe\">\n",
       "  <thead>\n",
       "    <tr style=\"text-align: right;\">\n",
       "      <th></th>\n",
       "      <th>DELAY_OR_NOT</th>\n",
       "    </tr>\n",
       "    <tr>\n",
       "      <th>MONTH</th>\n",
       "      <th></th>\n",
       "    </tr>\n",
       "  </thead>\n",
       "  <tbody>\n",
       "    <tr>\n",
       "      <th>6</th>\n",
       "      <td>1763</td>\n",
       "    </tr>\n",
       "    <tr>\n",
       "      <th>7</th>\n",
       "      <td>1524</td>\n",
       "    </tr>\n",
       "    <tr>\n",
       "      <th>2</th>\n",
       "      <td>1281</td>\n",
       "    </tr>\n",
       "    <tr>\n",
       "      <th>1</th>\n",
       "      <td>1239</td>\n",
       "    </tr>\n",
       "    <tr>\n",
       "      <th>8</th>\n",
       "      <td>1090</td>\n",
       "    </tr>\n",
       "    <tr>\n",
       "      <th>12</th>\n",
       "      <td>1072</td>\n",
       "    </tr>\n",
       "    <tr>\n",
       "      <th>3</th>\n",
       "      <td>1061</td>\n",
       "    </tr>\n",
       "    <tr>\n",
       "      <th>5</th>\n",
       "      <td>965</td>\n",
       "    </tr>\n",
       "    <tr>\n",
       "      <th>4</th>\n",
       "      <td>801</td>\n",
       "    </tr>\n",
       "    <tr>\n",
       "      <th>11</th>\n",
       "      <td>619</td>\n",
       "    </tr>\n",
       "    <tr>\n",
       "      <th>9</th>\n",
       "      <td>462</td>\n",
       "    </tr>\n",
       "    <tr>\n",
       "      <th>10</th>\n",
       "      <td>420</td>\n",
       "    </tr>\n",
       "  </tbody>\n",
       "</table>\n",
       "</div>"
      ],
      "text/plain": [
       "       DELAY_OR_NOT\n",
       "MONTH              \n",
       "6              1763\n",
       "7              1524\n",
       "2              1281\n",
       "1              1239\n",
       "8              1090\n",
       "12             1072\n",
       "3              1061\n",
       "5               965\n",
       "4               801\n",
       "11              619\n",
       "9               462\n",
       "10              420"
      ]
     },
     "execution_count": 1276,
     "metadata": {},
     "output_type": "execute_result"
    }
   ],
   "source": [
    "# WHICH MONTH HAS THE MOST DELAYS\n",
    "a = df_small.groupby(by=['MONTH'])['DELAY_OR_NOT'].sum()\n",
    "a= pd.DataFrame(a)\n",
    "a.sort_values(['DELAY_OR_NOT'], ascending=False, inplace=True)\n",
    "print(\"June has the most number of delayed flights\")\n",
    "a"
   ]
  },
  {
   "cell_type": "code",
   "execution_count": 1277,
   "metadata": {},
   "outputs": [
    {
     "name": "stdout",
     "output_type": "stream",
     "text": [
      "WN has the largest number of delays, but NK has the largest proportion of delayed flight at 38%\n",
      "         DELAY_OR_NOT\n",
      "AIRLINE              \n",
      "WN               2861\n",
      "UA               1423\n",
      "AA               1313\n",
      "EV               1306\n",
      "OO               1078\n",
      "DL                913\n",
      "B6                814\n",
      "MQ                739\n",
      "NK                697\n",
      "F9                400\n",
      "US                381\n",
      "VX                156\n",
      "AS                148\n",
      "HA                 68\n",
      "   index  DELAY_OR_NOT  AIRLINE  Average_delays\n",
      "8     NK           697     1879        0.370942\n",
      "5     F9           400     1681        0.237954\n",
      "2     B6           814     5210        0.156238\n",
      "10    UA          1423    10235        0.139033\n",
      "7     MQ           739     5452        0.135547\n",
      "12    VX           156     1241        0.125705\n",
      "4     EV          1306    11427        0.114291\n",
      "13    WN          2861    26321        0.108696\n",
      "11    US           381     3941        0.096676\n",
      "9     OO          1078    12208        0.088303\n",
      "0     AA          1313    15217        0.086285\n",
      "3     DL           913    20137        0.045339\n",
      "6     HA            68     1829        0.037179\n",
      "1     AS           148     4089        0.036195\n"
     ]
    },
    {
     "data": {
      "text/plain": [
       "(None, None)"
      ]
     },
     "execution_count": 1277,
     "metadata": {},
     "output_type": "execute_result"
    }
   ],
   "source": [
    "# WHICH AIRLINE HAS THE MOST DELAYS\n",
    "a = df_small.groupby(by=['AIRLINE'])['DELAY_OR_NOT'].sum()\n",
    "a = pd.DataFrame(a)\n",
    "b=df_small[\"AIRLINE\"].value_counts()\n",
    "b = pd.DataFrame(b)\n",
    "c = pd.concat ([a, b], axis=1).reset_index()\n",
    "c['Average_delays']=c['DELAY_OR_NOT']/c['AIRLINE']\n",
    "c.sort_values(['Average_delays'], ascending=False, inplace=True)\n",
    "#print(\"WN has the most number of delayed flights\")\n",
    "a.sort_values(['DELAY_OR_NOT'], ascending=False, inplace=True)\n",
    "print(\"WN has the largest number of delays, but NK has the largest proportion of delayed flight at 38%\")\n",
    "print(a), print (c)"
   ]
  },
  {
   "cell_type": "code",
   "execution_count": 1278,
   "metadata": {},
   "outputs": [
    {
     "data": {
      "text/plain": [
       "<matplotlib.text.Text at 0x21893654e80>"
      ]
     },
     "execution_count": 1278,
     "metadata": {},
     "output_type": "execute_result"
    },
    {
     "data": {
      "image/png": "[encoded data removed]",
      "text/plain": [
       "<matplotlib.figure.Figure at 0x21896bc2c88>"
      ]
     },
     "metadata": {},
     "output_type": "display_data"
    }
   ],
   "source": [
    "# BAR CHART AIRLINES WITH MOST DELAYS\n",
    "plt.figure(figsize=(10, 10))\n",
    "airport = (range(len(c)))\n",
    "labels=c.iloc[:,0:1].values\n",
    "d=c.iloc[:, 3:4].values\n",
    "plt.xticks(airport, labels, rotation=45)\n",
    "plt.bar(airport,d )\n",
    "plt.title (\"Airlines and % of delays\")"
   ]
  },
  {
   "cell_type": "markdown",
   "metadata": {},
   "source": [
    "# Summary of EDA\n",
    "- NK is the airline with the highest proportion of delayed flight\n",
    "- WN is the airline with the highest number of delayed flights.\n",
    "- Thursday is the day with the highest number of delayed flights.\n",
    "- June has the highest number of delayed flights.\n",
    "- Neither ORL or BOS are in the top 20 percetnage of flights delayed either as origin or destination airports."
   ]
  },
  {
   "cell_type": "markdown",
   "metadata": {},
   "source": [
    "# QUESTION 4"
   ]
  },
  {
   "cell_type": "code",
   "execution_count": 1279,
   "metadata": {},
   "outputs": [
    {
     "data": {
      "text/html": [
       "<div>\n",
       "<style>\n",
       "    .dataframe thead tr:only-child th {\n",
       "        text-align: right;\n",
       "    }\n",
       "\n",
       "    .dataframe thead th {\n",
       "        text-align: left;\n",
       "    }\n",
       "\n",
       "    .dataframe tbody tr th {\n",
       "        vertical-align: top;\n",
       "    }\n",
       "</style>\n",
       "<table border=\"1\" class=\"dataframe\">\n",
       "  <thead>\n",
       "    <tr style=\"text-align: right;\">\n",
       "      <th></th>\n",
       "      <th>MONTH</th>\n",
       "      <th>DAY_OF_WEEK</th>\n",
       "      <th>AIRLINE</th>\n",
       "      <th>ORIGIN_AIRPORT</th>\n",
       "      <th>DESTINATION_AIRPORT</th>\n",
       "      <th>SCHED_DEP</th>\n",
       "      <th>SCHED_ARR</th>\n",
       "      <th>DEPARTURE_DELAY</th>\n",
       "      <th>DISTANCE</th>\n",
       "      <th>SCHEDULED_TIME</th>\n",
       "      <th>ELAPSED_TIME</th>\n",
       "    </tr>\n",
       "  </thead>\n",
       "  <tbody>\n",
       "    <tr>\n",
       "      <th>740307</th>\n",
       "      <td>2</td>\n",
       "      <td>7</td>\n",
       "      <td>US</td>\n",
       "      <td>CLT</td>\n",
       "      <td>ATL</td>\n",
       "      <td>9.500000</td>\n",
       "      <td>10.783333</td>\n",
       "      <td>-8.0</td>\n",
       "      <td>226</td>\n",
       "      <td>77.0</td>\n",
       "      <td>63.0</td>\n",
       "    </tr>\n",
       "    <tr>\n",
       "      <th>791567</th>\n",
       "      <td>1</td>\n",
       "      <td>1</td>\n",
       "      <td>B6</td>\n",
       "      <td>FLL</td>\n",
       "      <td>LAX</td>\n",
       "      <td>11.616667</td>\n",
       "      <td>14.483333</td>\n",
       "      <td>3.0</td>\n",
       "      <td>2342</td>\n",
       "      <td>352.0</td>\n",
       "      <td>333.0</td>\n",
       "    </tr>\n",
       "    <tr>\n",
       "      <th>749228</th>\n",
       "      <td>1</td>\n",
       "      <td>5</td>\n",
       "      <td>AA</td>\n",
       "      <td>DCA</td>\n",
       "      <td>MIA</td>\n",
       "      <td>18.083333</td>\n",
       "      <td>20.816667</td>\n",
       "      <td>-1.0</td>\n",
       "      <td>919</td>\n",
       "      <td>164.0</td>\n",
       "      <td>160.0</td>\n",
       "    </tr>\n",
       "    <tr>\n",
       "      <th>796915</th>\n",
       "      <td>7</td>\n",
       "      <td>1</td>\n",
       "      <td>AS</td>\n",
       "      <td>SEA</td>\n",
       "      <td>JNU</td>\n",
       "      <td>7.666667</td>\n",
       "      <td>9.116667</td>\n",
       "      <td>9.0</td>\n",
       "      <td>909</td>\n",
       "      <td>147.0</td>\n",
       "      <td>149.0</td>\n",
       "    </tr>\n",
       "    <tr>\n",
       "      <th>588745</th>\n",
       "      <td>7</td>\n",
       "      <td>1</td>\n",
       "      <td>DL</td>\n",
       "      <td>ATL</td>\n",
       "      <td>TPA</td>\n",
       "      <td>10.583333</td>\n",
       "      <td>12.000000</td>\n",
       "      <td>-3.0</td>\n",
       "      <td>406</td>\n",
       "      <td>85.0</td>\n",
       "      <td>74.0</td>\n",
       "    </tr>\n",
       "  </tbody>\n",
       "</table>\n",
       "</div>"
      ],
      "text/plain": [
       "        MONTH  DAY_OF_WEEK AIRLINE ORIGIN_AIRPORT DESTINATION_AIRPORT  \\\n",
       "740307      2            7      US            CLT                 ATL   \n",
       "791567      1            1      B6            FLL                 LAX   \n",
       "749228      1            5      AA            DCA                 MIA   \n",
       "796915      7            1      AS            SEA                 JNU   \n",
       "588745      7            1      DL            ATL                 TPA   \n",
       "\n",
       "        SCHED_DEP  SCHED_ARR  DEPARTURE_DELAY  DISTANCE  SCHEDULED_TIME  \\\n",
       "740307   9.500000  10.783333             -8.0       226            77.0   \n",
       "791567  11.616667  14.483333              3.0      2342           352.0   \n",
       "749228  18.083333  20.816667             -1.0       919           164.0   \n",
       "796915   7.666667   9.116667              9.0       909           147.0   \n",
       "588745  10.583333  12.000000             -3.0       406            85.0   \n",
       "\n",
       "        ELAPSED_TIME  \n",
       "740307          63.0  \n",
       "791567         333.0  \n",
       "749228         160.0  \n",
       "796915         149.0  \n",
       "588745          74.0  "
      ]
     },
     "execution_count": 1279,
     "metadata": {},
     "output_type": "execute_result"
    }
   ],
   "source": [
    "x_train_small.head()"
   ]
  },
  {
   "cell_type": "code",
   "execution_count": 1280,
   "metadata": {
    "collapsed": true
   },
   "outputs": [],
   "source": [
    "# CONVERTING TO DUMMIES\n",
    "x_train_dummy = pd.get_dummies(x_train_small, columns=[\"MONTH\", \"DAY_OF_WEEK\", \"AIRLINE\",\"ORIGIN_AIRPORT\",\"DESTINATION_AIRPORT\"], drop_first=True)\n",
    "x_test_dummy = pd.get_dummies(x_test_small, columns=[\"MONTH\", \"DAY_OF_WEEK\", \"AIRLINE\",\"ORIGIN_AIRPORT\",\"DESTINATION_AIRPORT\"], drop_first=True)\n",
    "x_test_rest_dummy = pd.get_dummies(df_x_rest, columns=[\"MONTH\", \"DAY_OF_WEEK\", \"AIRLINE\",\"ORIGIN_AIRPORT\",\"DESTINATION_AIRPORT\"], drop_first=True)"
   ]
  },
  {
   "cell_type": "code",
   "execution_count": 1281,
   "metadata": {},
   "outputs": [
    {
     "data": {
      "text/plain": [
       "((80980, 1214), (39887, 1118), (684074, 1286))"
      ]
     },
     "execution_count": 1281,
     "metadata": {},
     "output_type": "execute_result"
    }
   ],
   "source": [
    "x_train_dummy.shape, x_test_dummy.shape, x_test_rest_dummy.shape"
   ]
  },
  {
   "cell_type": "markdown",
   "metadata": {},
   "source": [
    "This is a very itneresting problem that x_train_dummy and x_test_dummy dont have the same number of predictors, which means it will not be possible to predict on x_test_dummy with a model trained on x_train_dummy since the number of coefficients will not be the same. I suspect it is the Origin and Destination airports that are not exactly the same in the two data sets. so lets try creating dummies without those."
   ]
  },
  {
   "cell_type": "code",
   "execution_count": 1282,
   "metadata": {
    "collapsed": true
   },
   "outputs": [],
   "source": [
    "x_train_dummy = pd.get_dummies(x_train_small, columns=[\"MONTH\", \"DAY_OF_WEEK\", \"AIRLINE\"], drop_first=True)\n",
    "x_test_dummy = pd.get_dummies(x_test_small, columns=[\"MONTH\", \"DAY_OF_WEEK\", \"AIRLINE\"], drop_first=True)\n",
    "x_test_rest_dummy = pd.get_dummies(df_x_rest, columns=[\"MONTH\", \"DAY_OF_WEEK\", \"AIRLINE\"], drop_first=True)"
   ]
  },
  {
   "cell_type": "code",
   "execution_count": 1283,
   "metadata": {},
   "outputs": [
    {
     "data": {
      "text/plain": [
       "((80980, 38), (39887, 38), (684074, 38))"
      ]
     },
     "execution_count": 1283,
     "metadata": {},
     "output_type": "execute_result"
    }
   ],
   "source": [
    "x_train_dummy.shape, x_test_dummy.shape, x_test_rest_dummy.shape"
   ]
  },
  {
   "cell_type": "markdown",
   "metadata": {},
   "source": [
    "Now the number of predictors are equal in x_test_dummy and x_train_dummy thus can train the model on the test set. It is unfortunate that we had to drop the airports as predictors because there were some airports where more than 35% are delayed, but because of the data-set we are having to drop the predictors. If I had more skill I would choose the observations where both the origin and destination airports are present.\n"
   ]
  },
  {
   "cell_type": "code",
   "execution_count": 1284,
   "metadata": {},
   "outputs": [
    {
     "data": {
      "text/plain": [
       "((80980, 36), (39887, 36), (684074, 36))"
      ]
     },
     "execution_count": 1284,
     "metadata": {},
     "output_type": "execute_result"
    }
   ],
   "source": [
    "x_train_dummy =x_train_dummy.drop(['ORIGIN_AIRPORT', 'DESTINATION_AIRPORT'], axis=1)\n",
    "x_test_dummy =x_test_dummy.drop(['ORIGIN_AIRPORT', 'DESTINATION_AIRPORT'], axis=1)\n",
    "x_test_rest_dummy =x_test_rest_dummy.drop(['ORIGIN_AIRPORT', 'DESTINATION_AIRPORT'], axis=1)\n",
    "\n",
    "x_train_dummy.shape, x_test_dummy.shape, x_test_rest_dummy.shape"
   ]
  },
  {
   "cell_type": "code",
   "execution_count": 1285,
   "metadata": {},
   "outputs": [
    {
     "data": {
      "text/html": [
       "<div>\n",
       "<style>\n",
       "    .dataframe thead tr:only-child th {\n",
       "        text-align: right;\n",
       "    }\n",
       "\n",
       "    .dataframe thead th {\n",
       "        text-align: left;\n",
       "    }\n",
       "\n",
       "    .dataframe tbody tr th {\n",
       "        vertical-align: top;\n",
       "    }\n",
       "</style>\n",
       "<table border=\"1\" class=\"dataframe\">\n",
       "  <thead>\n",
       "    <tr style=\"text-align: right;\">\n",
       "      <th></th>\n",
       "      <th>SCHED_DEP</th>\n",
       "      <th>SCHED_ARR</th>\n",
       "      <th>DEPARTURE_DELAY</th>\n",
       "      <th>DISTANCE</th>\n",
       "      <th>SCHEDULED_TIME</th>\n",
       "      <th>ELAPSED_TIME</th>\n",
       "      <th>MONTH_2</th>\n",
       "      <th>MONTH_3</th>\n",
       "      <th>MONTH_4</th>\n",
       "      <th>MONTH_5</th>\n",
       "      <th>...</th>\n",
       "      <th>AIRLINE_EV</th>\n",
       "      <th>AIRLINE_F9</th>\n",
       "      <th>AIRLINE_HA</th>\n",
       "      <th>AIRLINE_MQ</th>\n",
       "      <th>AIRLINE_NK</th>\n",
       "      <th>AIRLINE_OO</th>\n",
       "      <th>AIRLINE_UA</th>\n",
       "      <th>AIRLINE_US</th>\n",
       "      <th>AIRLINE_VX</th>\n",
       "      <th>AIRLINE_WN</th>\n",
       "    </tr>\n",
       "  </thead>\n",
       "  <tbody>\n",
       "    <tr>\n",
       "      <th>740307</th>\n",
       "      <td>9.500000</td>\n",
       "      <td>10.783333</td>\n",
       "      <td>-8.0</td>\n",
       "      <td>226</td>\n",
       "      <td>77.0</td>\n",
       "      <td>63.0</td>\n",
       "      <td>1</td>\n",
       "      <td>0</td>\n",
       "      <td>0</td>\n",
       "      <td>0</td>\n",
       "      <td>...</td>\n",
       "      <td>0</td>\n",
       "      <td>0</td>\n",
       "      <td>0</td>\n",
       "      <td>0</td>\n",
       "      <td>0</td>\n",
       "      <td>0</td>\n",
       "      <td>0</td>\n",
       "      <td>1</td>\n",
       "      <td>0</td>\n",
       "      <td>0</td>\n",
       "    </tr>\n",
       "    <tr>\n",
       "      <th>791567</th>\n",
       "      <td>11.616667</td>\n",
       "      <td>14.483333</td>\n",
       "      <td>3.0</td>\n",
       "      <td>2342</td>\n",
       "      <td>352.0</td>\n",
       "      <td>333.0</td>\n",
       "      <td>0</td>\n",
       "      <td>0</td>\n",
       "      <td>0</td>\n",
       "      <td>0</td>\n",
       "      <td>...</td>\n",
       "      <td>0</td>\n",
       "      <td>0</td>\n",
       "      <td>0</td>\n",
       "      <td>0</td>\n",
       "      <td>0</td>\n",
       "      <td>0</td>\n",
       "      <td>0</td>\n",
       "      <td>0</td>\n",
       "      <td>0</td>\n",
       "      <td>0</td>\n",
       "    </tr>\n",
       "    <tr>\n",
       "      <th>749228</th>\n",
       "      <td>18.083333</td>\n",
       "      <td>20.816667</td>\n",
       "      <td>-1.0</td>\n",
       "      <td>919</td>\n",
       "      <td>164.0</td>\n",
       "      <td>160.0</td>\n",
       "      <td>0</td>\n",
       "      <td>0</td>\n",
       "      <td>0</td>\n",
       "      <td>0</td>\n",
       "      <td>...</td>\n",
       "      <td>0</td>\n",
       "      <td>0</td>\n",
       "      <td>0</td>\n",
       "      <td>0</td>\n",
       "      <td>0</td>\n",
       "      <td>0</td>\n",
       "      <td>0</td>\n",
       "      <td>0</td>\n",
       "      <td>0</td>\n",
       "      <td>0</td>\n",
       "    </tr>\n",
       "    <tr>\n",
       "      <th>796915</th>\n",
       "      <td>7.666667</td>\n",
       "      <td>9.116667</td>\n",
       "      <td>9.0</td>\n",
       "      <td>909</td>\n",
       "      <td>147.0</td>\n",
       "      <td>149.0</td>\n",
       "      <td>0</td>\n",
       "      <td>0</td>\n",
       "      <td>0</td>\n",
       "      <td>0</td>\n",
       "      <td>...</td>\n",
       "      <td>0</td>\n",
       "      <td>0</td>\n",
       "      <td>0</td>\n",
       "      <td>0</td>\n",
       "      <td>0</td>\n",
       "      <td>0</td>\n",
       "      <td>0</td>\n",
       "      <td>0</td>\n",
       "      <td>0</td>\n",
       "      <td>0</td>\n",
       "    </tr>\n",
       "    <tr>\n",
       "      <th>588745</th>\n",
       "      <td>10.583333</td>\n",
       "      <td>12.000000</td>\n",
       "      <td>-3.0</td>\n",
       "      <td>406</td>\n",
       "      <td>85.0</td>\n",
       "      <td>74.0</td>\n",
       "      <td>0</td>\n",
       "      <td>0</td>\n",
       "      <td>0</td>\n",
       "      <td>0</td>\n",
       "      <td>...</td>\n",
       "      <td>0</td>\n",
       "      <td>0</td>\n",
       "      <td>0</td>\n",
       "      <td>0</td>\n",
       "      <td>0</td>\n",
       "      <td>0</td>\n",
       "      <td>0</td>\n",
       "      <td>0</td>\n",
       "      <td>0</td>\n",
       "      <td>0</td>\n",
       "    </tr>\n",
       "  </tbody>\n",
       "</table>\n",
       "<p>5 rows × 36 columns</p>\n",
       "</div>"
      ],
      "text/plain": [
       "        SCHED_DEP  SCHED_ARR  DEPARTURE_DELAY  DISTANCE  SCHEDULED_TIME  \\\n",
       "740307   9.500000  10.783333             -8.0       226            77.0   \n",
       "791567  11.616667  14.483333              3.0      2342           352.0   \n",
       "749228  18.083333  20.816667             -1.0       919           164.0   \n",
       "796915   7.666667   9.116667              9.0       909           147.0   \n",
       "588745  10.583333  12.000000             -3.0       406            85.0   \n",
       "\n",
       "        ELAPSED_TIME  MONTH_2  MONTH_3  MONTH_4  MONTH_5     ...      \\\n",
       "740307          63.0        1        0        0        0     ...       \n",
       "791567         333.0        0        0        0        0     ...       \n",
       "749228         160.0        0        0        0        0     ...       \n",
       "796915         149.0        0        0        0        0     ...       \n",
       "588745          74.0        0        0        0        0     ...       \n",
       "\n",
       "        AIRLINE_EV  AIRLINE_F9  AIRLINE_HA  AIRLINE_MQ  AIRLINE_NK  \\\n",
       "740307           0           0           0           0           0   \n",
       "791567           0           0           0           0           0   \n",
       "749228           0           0           0           0           0   \n",
       "796915           0           0           0           0           0   \n",
       "588745           0           0           0           0           0   \n",
       "\n",
       "        AIRLINE_OO  AIRLINE_UA  AIRLINE_US  AIRLINE_VX  AIRLINE_WN  \n",
       "740307           0           0           1           0           0  \n",
       "791567           0           0           0           0           0  \n",
       "749228           0           0           0           0           0  \n",
       "796915           0           0           0           0           0  \n",
       "588745           0           0           0           0           0  \n",
       "\n",
       "[5 rows x 36 columns]"
      ]
     },
     "execution_count": 1285,
     "metadata": {},
     "output_type": "execute_result"
    }
   ],
   "source": [
    "x_train_dummy.head()"
   ]
  },
  {
   "cell_type": "code",
   "execution_count": 1286,
   "metadata": {},
   "outputs": [
    {
     "data": {
      "text/plain": [
       "SCHED_DEP          float64\n",
       "SCHED_ARR          float64\n",
       "DEPARTURE_DELAY    float64\n",
       "DISTANCE             int64\n",
       "SCHEDULED_TIME     float64\n",
       "ELAPSED_TIME       float64\n",
       "MONTH_2              uint8\n",
       "MONTH_3              uint8\n",
       "MONTH_4              uint8\n",
       "MONTH_5              uint8\n",
       "MONTH_6              uint8\n",
       "MONTH_7              uint8\n",
       "MONTH_8              uint8\n",
       "MONTH_9              uint8\n",
       "MONTH_10             uint8\n",
       "MONTH_11             uint8\n",
       "MONTH_12             uint8\n",
       "DAY_OF_WEEK_2        uint8\n",
       "DAY_OF_WEEK_3        uint8\n",
       "DAY_OF_WEEK_4        uint8\n",
       "DAY_OF_WEEK_5        uint8\n",
       "DAY_OF_WEEK_6        uint8\n",
       "DAY_OF_WEEK_7        uint8\n",
       "AIRLINE_AS           uint8\n",
       "AIRLINE_B6           uint8\n",
       "AIRLINE_DL           uint8\n",
       "AIRLINE_EV           uint8\n",
       "AIRLINE_F9           uint8\n",
       "AIRLINE_HA           uint8\n",
       "AIRLINE_MQ           uint8\n",
       "AIRLINE_NK           uint8\n",
       "AIRLINE_OO           uint8\n",
       "AIRLINE_UA           uint8\n",
       "AIRLINE_US           uint8\n",
       "AIRLINE_VX           uint8\n",
       "AIRLINE_WN           uint8\n",
       "dtype: object"
      ]
     },
     "execution_count": 1286,
     "metadata": {},
     "output_type": "execute_result"
    }
   ],
   "source": [
    "y_train_small=y_train_small.astype('int')\n",
    "y_test_small=y_test_small.astype('int')\n",
    "df_y_rest=df_y_rest.astype('int')\n",
    "x_test_rest_dummy.dtypes"
   ]
  },
  {
   "cell_type": "code",
   "execution_count": 1287,
   "metadata": {},
   "outputs": [
    {
     "name": "stdout",
     "output_type": "stream",
     "text": [
      "Accuracy of logistic model on small test set: 0.999950\n",
      "Accuracy of logistic model on large test sest: 0.999930\n"
     ]
    }
   ],
   "source": [
    "# LOGISTIC REGRESSION WITH REGULARIZATION AND CROSS VALIDATION\n",
    "searchCV=LogisticRegressionCV(cv=5, penalty='l2')\n",
    "searchCV.fit(x_train_dummy, y_train_small)\n",
    "print(\"Accuracy of logistic model on small test set: %0.6f\" % searchCV.score(x_test_dummy, y_test_small))\n",
    "print(\"Accuracy of logistic model on large test sest: %0.6f\" % searchCV.score(x_test_rest_dummy, df_y_rest))"
   ]
  },
  {
   "cell_type": "code",
   "execution_count": 1288,
   "metadata": {},
   "outputs": [
    {
     "data": {
      "text/plain": [
       "array([[35814,     1],\n",
       "       [    1,  4071]])"
      ]
     },
     "execution_count": 1288,
     "metadata": {},
     "output_type": "execute_result"
    }
   ],
   "source": [
    "from sklearn.metrics import confusion_matrix\n",
    "y_pred=searchCV.predict(x_test_dummy)\n",
    "cm = confusion_matrix(y_test_small, y_pred)\n",
    "cm"
   ]
  },
  {
   "cell_type": "code",
   "execution_count": 1289,
   "metadata": {},
   "outputs": [
    {
     "name": "stdout",
     "output_type": "stream",
     "text": [
      "The True positive rate is 0.9998\n",
      "The True negative rate is 1.0000\n"
     ]
    }
   ],
   "source": [
    "#TRUE POSITIVE RATE\n",
    "cm_tp=cm[1:2, 1:2]/np.sum(cm[1:2,:])\n",
    "\n",
    "#TRUE NEGATIVE RATE\n",
    "cm_tn=cm[0:1, 0:1]/np.sum(cm[0:1,:])\n",
    "\n",
    "print(\"The True positive rate is %0.4f\"% cm_tp)\n",
    "print(\"The True negative rate is %0.4f\"% cm_tn)"
   ]
  },
  {
   "cell_type": "markdown",
   "metadata": {},
   "source": [
    "# Disucssion\n",
    "Ths is not normal because such a high accuracy rate of 100% means that I have some predictor in my predictors set which is acting as a proxy for the dependent variable. I suspect it is the variable 'Departure Delay'. So I am going to repeat by dropping that predictor to see if anything changes."
   ]
  },
  {
   "cell_type": "code",
   "execution_count": 1290,
   "metadata": {},
   "outputs": [
    {
     "data": {
      "text/plain": [
       "((80980, 35), (39887, 35), (684074, 35))"
      ]
     },
     "execution_count": 1290,
     "metadata": {},
     "output_type": "execute_result"
    }
   ],
   "source": [
    "#DROPPING VARIABLE 'DEPARTURE DELAY\n",
    "x_train_dummy =x_train_dummy.drop(['DEPARTURE_DELAY'], axis=1)\n",
    "x_test_dummy =x_test_dummy.drop(['DEPARTURE_DELAY'], axis=1)\n",
    "x_test_rest_dummy =x_test_rest_dummy.drop(['DEPARTURE_DELAY'], axis=1)\n",
    "\n",
    "x_train_dummy.shape, x_test_dummy.shape, x_test_rest_dummy.shape"
   ]
  },
  {
   "cell_type": "code",
   "execution_count": 1292,
   "metadata": {},
   "outputs": [
    {
     "name": "stdout",
     "output_type": "stream",
     "text": [
      "Accuracy of logistic model on small test set: 0.918996\n",
      "Accuracy of logistic model on large test sest: 0.918902\n"
     ]
    }
   ],
   "source": [
    "# REPEATING LOGISTIC REGRESSION WITH REGULARIZATION AND CROSS VALIDATION\n",
    "searchCV=LogisticRegressionCV(cv=5, penalty='l2')\n",
    "searchCV.fit(x_train_dummy, y_train_small)\n",
    "y_pred_log= searchCV.predict(x_test_dummy)\n",
    "print(\"Accuracy of logistic model on small test set: %0.6f\" % searchCV.score(x_test_dummy, y_test_small))\n",
    "print(\"Accuracy of logistic model on large test sest: %0.6f\" % searchCV.score(x_test_rest_dummy, df_y_rest))"
   ]
  },
  {
   "cell_type": "markdown",
   "metadata": {},
   "source": [
    "# AHA!\n",
    "The 'Departure Delay' was hiding inside my model as a proxy for the dependent variable. The results now make more sense and it's also good to see that the results on teh smaller and larger testing sets are close enough showing there is no overfitting."
   ]
  },
  {
   "cell_type": "code",
   "execution_count": 1293,
   "metadata": {},
   "outputs": [
    {
     "data": {
      "text/plain": [
       "array([[35495,   320],\n",
       "       [ 2911,  1161]])"
      ]
     },
     "execution_count": 1293,
     "metadata": {},
     "output_type": "execute_result"
    }
   ],
   "source": [
    "y_pred=searchCV.predict(x_test_dummy)\n",
    "cm = confusion_matrix(y_test_small, y_pred)\n",
    "cm"
   ]
  },
  {
   "cell_type": "code",
   "execution_count": 1294,
   "metadata": {},
   "outputs": [
    {
     "name": "stdout",
     "output_type": "stream",
     "text": [
      "The True positive rate is 0.2851\n",
      "The True negative rate is 0.9911\n"
     ]
    }
   ],
   "source": [
    "#TRUE POSITIVE RATE\n",
    "cm_tp=cm[1:2, 1:2]/np.sum(cm[1:2,:])\n",
    "\n",
    "#TRUE NEGATIVE RATE\n",
    "cm_tn=cm[0:1, 0:1]/np.sum(cm[0:1,:])\n",
    "\n",
    "print(\"The True positive rate is %0.4f\"% cm_tp)\n",
    "print(\"The True negative rate is %0.4f\"% cm_tn)"
   ]
  },
  {
   "cell_type": "code",
   "execution_count": 1295,
   "metadata": {},
   "outputs": [
    {
     "name": "stdout",
     "output_type": "stream",
     "text": [
      "Accuracy with LDA on small test: 0.9186\n",
      "Accuracy with LDA on large test: 0.9178\n",
      "Accuracy with QDA with small test: 0.8535\n",
      "Accuracy with QDA with large test: 0.8548\n"
     ]
    }
   ],
   "source": [
    "# LDA MODEL\n",
    "lda= discriminant_analysis.LinearDiscriminantAnalysis()\n",
    "lda_fit=lda.fit(x_train_dummy, y_train_small)\n",
    "print(\"Accuracy with LDA on small test: %0.4f\" % lda_fit.score(x_test_dummy, y_test_small))\n",
    "print(\"Accuracy with LDA on large test: %0.4f\" % lda_fit.score(x_test_rest_dummy, df_y_rest))\n",
    "\n",
    "#QDA MODEL\n",
    "qda = discriminant_analysis.QuadraticDiscriminantAnalysis()\n",
    "qda_fit=qda.fit(x_train_dummy, y_train_small)\n",
    "print(\"Accuracy with QDA with small test: %0.4f\" % qda_fit.score(x_test_dummy, y_test_small))\n",
    "print(\"Accuracy with QDA with large test: %0.4f\" % qda_fit.score(x_test_rest_dummy, df_y_rest))\n"
   ]
  },
  {
   "cell_type": "code",
   "execution_count": 1296,
   "metadata": {},
   "outputs": [
    {
     "name": "stdout",
     "output_type": "stream",
     "text": [
      "The True positive rate for lda is 0.31\n",
      "The True negative rate for lda is 0.99\n"
     ]
    }
   ],
   "source": [
    "# CONFUSION MATRIX FOR LDA\n",
    "y_pred=lda.predict(x_test_dummy)\n",
    "cm = confusion_matrix(y_test_small, y_pred)\n",
    "\n",
    "#TRUE POSITIVE RATE\n",
    "cm_tp=cm[1:2, 1:2]/np.sum(cm[1:2,:])\n",
    "\n",
    "#TRUE NEGATIVE RATE\n",
    "cm_tn=cm[0:1, 0:1]/np.sum(cm[0:1,:])\n",
    "\n",
    "print(\"The True positive rate for lda is %0.2f\"% cm_tp)\n",
    "print(\"The True negative rate for lda is %0.2f\"% cm_tn)"
   ]
  },
  {
   "cell_type": "code",
   "execution_count": 1103,
   "metadata": {},
   "outputs": [
    {
     "name": "stdout",
     "output_type": "stream",
     "text": [
      "The True positive rate is 0.54\n",
      "The True negative rate is 0.89\n"
     ]
    }
   ],
   "source": [
    "# CONFUSION MATRIX FOR QDA\n",
    "y_pred=qda.predict(x_test_dummy)\n",
    "cm = confusion_matrix(y_test_small, y_pred)\n",
    "\n",
    "#TRUE POSITIVE RATE\n",
    "cm_tp=cm[1:2, 1:2]/np.sum(cm[1:2,:])\n",
    "\n",
    "#TRUE NEGATIVE RATE\n",
    "cm_tn=cm[0:1, 0:1]/np.sum(cm[0:1,:])\n",
    "\n",
    "print(\"The True positive rate is %0.2f\"% cm_tp)\n",
    "print(\"The True negative rate is %0.2f\"% cm_tn)"
   ]
  },
  {
   "cell_type": "code",
   "execution_count": 1100,
   "metadata": {},
   "outputs": [
    {
     "data": {
      "text/plain": [
       "({'max_depth': 7}, 0.90321665556624486)"
      ]
     },
     "execution_count": 1100,
     "metadata": {},
     "output_type": "execute_result"
    }
   ],
   "source": [
    "#3.2 FINDING THE OPTIMAL TREE DEPTH\n",
    "from sklearn.model_selection import GridSearchCV\n",
    "est = DecisionTreeClassifier()\n",
    "parameters = {\"max_depth\": range(1,30)}\n",
    "gs = GridSearchCV(est, param_grid=parameters, cv=5)\n",
    "gs.fit(x_train_dummy.values, y_train_small.DELAY_OR_NOT.values)\n",
    "gs.best_params_, gs.best_score_"
   ]
  },
  {
   "cell_type": "code",
   "execution_count": 1104,
   "metadata": {},
   "outputs": [
    {
     "name": "stdout",
     "output_type": "stream",
     "text": [
      "The True positive rate is 0.08\n",
      "The True negative rate is 0.99\n"
     ]
    }
   ],
   "source": [
    "# CONFUSION MATRIX FOR QDA\n",
    "y_pred=gs.predict(x_test_dummy)\n",
    "cm = confusion_matrix(y_test_small, y_pred)\n",
    "\n",
    "#TRUE POSITIVE RATE\n",
    "cm_tp=cm[1:2, 1:2]/np.sum(cm[1:2,:])\n",
    "\n",
    "#TRUE NEGATIVE RATE\n",
    "cm_tn=cm[0:1, 0:1]/np.sum(cm[0:1,:])\n",
    "\n",
    "print(\"The True positive rate is %0.2f\"% cm_tp)\n",
    "print(\"The True negative rate is %0.2f\"% cm_tn)"
   ]
  },
  {
   "cell_type": "code",
   "execution_count": 1105,
   "metadata": {
    "collapsed": true
   },
   "outputs": [],
   "source": [
    "#2.1 ROC CURVE FOR LOGISTIC MODEL AND ALL ZEROS CLASSIFIER\n",
    "\n",
    "from sklearn.metrics import roc_curve, auc\n",
    "\n",
    "def make_roc(name, clf, ytest, xtest, ax=None, labe=5, proba=True, skip=0):\n",
    "    initial=False\n",
    "    if not ax:\n",
    "        ax=plt.gca()\n",
    "        initial=True\n",
    "    if proba:#for stuff like logistic regression\n",
    "        fpr, tpr, thresholds=roc_curve(ytest, clf.predict_proba(xtest)[:,1])\n",
    "    else:#for stuff like SVM\n",
    "        fpr, tpr, thresholds=roc_curve(ytest, clf.decision_function(xtest))\n",
    "    roc_auc = auc(fpr, tpr)\n",
    "    if skip:\n",
    "        l=fpr.shape[0]\n",
    "        ax.plot(fpr[0:l:skip], tpr[0:l:skip], '.-', alpha=0.3, label='ROC curve for %s (area = %0.3f)' % (name, roc_auc))\n",
    "    else:\n",
    "        ax.plot(fpr, tpr, '.-', alpha=0.3, label='ROC curve for %s (area = %0.3f)' % (name, roc_auc))\n",
    "    label_kwargs = {}\n",
    "    label_kwargs['bbox'] = dict(\n",
    "        boxstyle='round,pad=0.3', alpha=0.2,\n",
    "    )\n",
    "    if labe!=None:\n",
    "        for k in range(0, fpr.shape[0],labe):\n",
    "            #from https://gist.github.com/podshumok/c1d1c9394335d86255b8\n",
    "            threshold = str(np.round(thresholds[k], 5))\n",
    "            ax.annotate(threshold, (fpr[k], tpr[k]), **label_kwargs)\n",
    "    if initial:\n",
    "        ax.plot([0, 1], [0, 1], 'k--')\n",
    "        ax.set_xlim([0.0, 1.0])\n",
    "        ax.set_ylim([0.0, 1.05])\n",
    "        ax.set_xlabel('False Positive Rate')\n",
    "        ax.set_ylabel('True Positive Rate')\n",
    "        ax.set_title('ROC')\n",
    "    ax.legend(loc=\"lower right\")\n",
    "    return ax"
   ]
  },
  {
   "cell_type": "code",
   "execution_count": 1106,
   "metadata": {},
   "outputs": [
    {
     "data": {
      "text/plain": [
       "[<matplotlib.lines.Line2D at 0x218953cb550>]"
      ]
     },
     "execution_count": 1106,
     "metadata": {},
     "output_type": "execute_result"
    },
    {
     "data": {
      "image/png": "[encoded data removed]",
      "text/plain": [
       "<matplotlib.figure.Figure at 0x218950165f8>"
      ]
     },
     "metadata": {},
     "output_type": "display_data"
    }
   ],
   "source": [
    "sns.set_context(\"poster\")\n",
    "ax1=make_roc(\"logistic\",searchCV, y_test_small, x_test_dummy, labe=950, skip=100)\n",
    "ax1.plot([0, 1], [0, 1], ls=\"--\", c=\"r\")"
   ]
  },
  {
   "cell_type": "code",
   "execution_count": 1107,
   "metadata": {},
   "outputs": [
    {
     "data": {
      "text/plain": [
       "[<matplotlib.lines.Line2D at 0x218968ab048>]"
      ]
     },
     "execution_count": 1107,
     "metadata": {},
     "output_type": "execute_result"
    },
    {
     "data": {
      "image/png": "[encoded data removed]",
      "text/plain": [
       "<matplotlib.figure.Figure at 0x21893fe5128>"
      ]
     },
     "metadata": {},
     "output_type": "display_data"
    }
   ],
   "source": [
    "sns.set_context(\"poster\")\n",
    "ax1=make_roc(\"lda\",lda, y_test_small, x_test_dummy, labe=1000, skip=10)\n",
    "ax1.plot([0, 1], [0, 1], ls=\"--\", c=\"r\")"
   ]
  },
  {
   "cell_type": "code",
   "execution_count": 1108,
   "metadata": {},
   "outputs": [
    {
     "data": {
      "text/plain": [
       "[<matplotlib.lines.Line2D at 0x2188a71d898>]"
      ]
     },
     "execution_count": 1108,
     "metadata": {},
     "output_type": "execute_result"
    },
    {
     "data": {
      "image/png": "[encoded data removed]",
      "text/plain": [
       "<matplotlib.figure.Figure at 0x21895eeb9b0>"
      ]
     },
     "metadata": {},
     "output_type": "display_data"
    }
   ],
   "source": [
    "sns.set_context(\"poster\")\n",
    "ax1=make_roc(\"qda\",qda, y_test_small, x_test_dummy, labe=1000, skip=10)\n",
    "ax1.plot([0, 1], [0, 1], ls=\"--\", c=\"r\")"
   ]
  },
  {
   "cell_type": "code",
   "execution_count": 1109,
   "metadata": {},
   "outputs": [
    {
     "data": {
      "text/plain": [
       "[<matplotlib.lines.Line2D at 0x217b7ccf9e8>]"
      ]
     },
     "execution_count": 1109,
     "metadata": {},
     "output_type": "execute_result"
    },
    {
     "data": {
      "image/png": "[encoded data removed]",
      "text/plain": [
       "<matplotlib.figure.Figure at 0x21896598da0>"
      ]
     },
     "metadata": {},
     "output_type": "display_data"
    }
   ],
   "source": [
    "sns.set_context(\"poster\")\n",
    "ax1=make_roc(\"Decision Tree\",gs, y_test_small, x_test_dummy, labe=1000, skip=10)\n",
    "ax1.plot([0, 1], [0, 1], ls=\"--\", c=\"r\")"
   ]
  },
  {
   "cell_type": "markdown",
   "metadata": {},
   "source": [
    "# Discussion 4\n",
    "The base accuracy, given the imbalance: 90% of the data is delay = 0. Thus compared to an all-zero's response, any model should do 90% or better. I whittled down the predictors to 11 and at each stage I have discussed why I have chosen to drop them. I tried four models and test them on both the small test set and then the large test set. In all cases the numbers were very close showing that the training sample was large enough and there is no overfitting.\n",
    "\n",
    "|               | Accuracy | AUC   | TPR  | TNR   | Comments                                               |\n",
    "|---------------|----------|-------|------|-------|--------------------------------------------------------|\n",
    "| Base          | 0.90     | 0.6   |      |       |                                                        |\n",
    "| Logistic      | 0.918    | 0.851 | 0.28 | 0.998 | Similar to LDA but lower TPR                           |\n",
    "| LDA           | 0.917    | 0.844 | 0.31 | 0.99  | As good as Logistic, similar accuracy and better TPR   |\n",
    "| QDA           | 0.85     | 0.796 | 0.54 | 0.89  | Accuracy Performance lower than base case of 90%       |\n",
    "| Decision tree | 0.903    | 0.788 | 0.08 | 0.99  | Max depth is 7, accuracy performance same as base case |"
   ]
  },
  {
   "cell_type": "markdown",
   "metadata": {},
   "source": [
    "# Question 5\n",
    "I will be uisng the logistic model as my best model (to be honest it's performance is same as LDA but it is easier to implement than a LDA in practical terms). SKLearn does not display logit regression information as nicely as statsmodel. It can output the predictor values but there is no way to trace what the names of those predictors are and hence make practical conclusions. For this reason I replicated the logistic with stats model with dispalys results in a nicer way"
   ]
  },
  {
   "cell_type": "code",
   "execution_count": 1110,
   "metadata": {},
   "outputs": [
    {
     "data": {
      "text/plain": [
       "array([[ 0.24101035, -0.00237354, -0.00206693, -0.05571052,  0.07462819,\n",
       "         0.35139821, -0.02237669, -0.40480327, -0.10573555,  0.70833841,\n",
       "         0.38370831, -0.03923274, -1.17940445, -1.25196354, -0.92918925,\n",
       "         0.02558556, -0.49904317, -0.33691485,  0.0723411 , -0.2702105 ,\n",
       "        -0.93027534, -0.68686599, -1.40583755,  0.53487307, -0.88401938,\n",
       "         0.22265075,  0.87402443, -0.84523913,  0.51128299,  1.87377286,\n",
       "        -0.23742264,  0.65779125, -0.54250955,  0.20343358,  0.39666613]])"
      ]
     },
     "execution_count": 1110,
     "metadata": {},
     "output_type": "execute_result"
    }
   ],
   "source": [
    "# LOGISTIC SKLEARN COEFFICIENTS\n",
    "searchCV.coef_"
   ]
  },
  {
   "cell_type": "code",
   "execution_count": 1252,
   "metadata": {},
   "outputs": [
    {
     "data": {
      "text/plain": [
       "array([[ 1.27253421,  0.99762927,  0.99793521,  0.94581289,  1.07748346,\n",
       "         1.4210531 ,  0.97787181,  0.66710804,  0.89966253,  2.0306144 ,\n",
       "         1.46771726,  0.9615269 ,  0.30746179,  0.28594278,  0.39487372,\n",
       "         1.02591568,  0.60711128,  0.71396963,  1.07502197,  0.76321882,\n",
       "         0.39444509,  0.50315048,  0.24516164,  1.70723153,  0.41311909,\n",
       "         1.24938415,  2.39653616,  0.42945465,  1.66742912,  6.51282208,\n",
       "         0.7886579 ,  1.93052358,  0.58128765,  1.22560375,  1.48685943]])"
      ]
     },
     "execution_count": 1252,
     "metadata": {},
     "output_type": "execute_result"
    }
   ],
   "source": [
    "# exponent of the log odd to get the direct correlation with the possibility of a delay\n",
    "np.exp(searchCV.coef_)"
   ]
  },
  {
   "cell_type": "code",
   "execution_count": 1116,
   "metadata": {},
   "outputs": [
    {
     "data": {
      "text/plain": [
       "((39935, 35), (39935, 1), (81078, 35))"
      ]
     },
     "execution_count": 1116,
     "metadata": {},
     "output_type": "execute_result"
    }
   ],
   "source": [
    "x_test_dummy.shape, y_test_small.shape, x_train_dummy.shape"
   ]
  },
  {
   "cell_type": "code",
   "execution_count": 1297,
   "metadata": {
    "scrolled": true
   },
   "outputs": [
    {
     "name": "stdout",
     "output_type": "stream",
     "text": [
      "Optimization terminated successfully.\n",
      "         Current function value: 0.256206\n",
      "         Iterations 8\n"
     ]
    },
    {
     "data": {
      "text/html": [
       "<table class=\"simpletable\">\n",
       "<caption>Logit Regression Results</caption>\n",
       "<tr>\n",
       "  <th>Dep. Variable:</th>   <td>DELAY_OR_NOT</td>   <th>  No. Observations:  </th>  <td> 80980</td> \n",
       "</tr>\n",
       "<tr>\n",
       "  <th>Model:</th>               <td>Logit</td>      <th>  Df Residuals:      </th>  <td> 80945</td> \n",
       "</tr>\n",
       "<tr>\n",
       "  <th>Method:</th>               <td>MLE</td>       <th>  Df Model:          </th>  <td>    34</td> \n",
       "</tr>\n",
       "<tr>\n",
       "  <th>Date:</th>          <td>Mon, 06 Nov 2017</td> <th>  Pseudo R-squ.:     </th>  <td>0.2201</td> \n",
       "</tr>\n",
       "<tr>\n",
       "  <th>Time:</th>              <td>06:51:25</td>     <th>  Log-Likelihood:    </th> <td> -20748.</td>\n",
       "</tr>\n",
       "<tr>\n",
       "  <th>converged:</th>           <td>True</td>       <th>  LL-Null:           </th> <td> -26603.</td>\n",
       "</tr>\n",
       "<tr>\n",
       "  <th> </th>                      <td> </td>        <th>  LLR p-value:       </th>  <td> 0.000</td> \n",
       "</tr>\n",
       "</table>\n",
       "<table class=\"simpletable\">\n",
       "<tr>\n",
       "         <td></td>           <th>coef</th>     <th>std err</th>      <th>z</th>      <th>P>|z|</th>  <th>[0.025</th>    <th>0.975]</th>  \n",
       "</tr>\n",
       "<tr>\n",
       "  <th>SCHED_DEP</th>      <td>    0.1793</td> <td>    0.004</td> <td>   51.086</td> <td> 0.000</td> <td>    0.172</td> <td>    0.186</td>\n",
       "</tr>\n",
       "<tr>\n",
       "  <th>SCHED_ARR</th>      <td>   -0.0365</td> <td>    0.003</td> <td>  -11.791</td> <td> 0.000</td> <td>   -0.043</td> <td>   -0.030</td>\n",
       "</tr>\n",
       "<tr>\n",
       "  <th>DISTANCE</th>       <td>    0.0021</td> <td>    0.000</td> <td>   18.243</td> <td> 0.000</td> <td>    0.002</td> <td>    0.002</td>\n",
       "</tr>\n",
       "<tr>\n",
       "  <th>SCHEDULED_TIME</th> <td>   -0.0903</td> <td>    0.001</td> <td>  -60.300</td> <td> 0.000</td> <td>   -0.093</td> <td>   -0.087</td>\n",
       "</tr>\n",
       "<tr>\n",
       "  <th>ELAPSED_TIME</th>   <td>    0.0712</td> <td>    0.001</td> <td>   58.361</td> <td> 0.000</td> <td>    0.069</td> <td>    0.074</td>\n",
       "</tr>\n",
       "<tr>\n",
       "  <th>MONTH_2</th>        <td>   -0.8256</td> <td>    0.053</td> <td>  -15.519</td> <td> 0.000</td> <td>   -0.930</td> <td>   -0.721</td>\n",
       "</tr>\n",
       "<tr>\n",
       "  <th>MONTH_3</th>        <td>   -1.2977</td> <td>    0.054</td> <td>  -23.987</td> <td> 0.000</td> <td>   -1.404</td> <td>   -1.192</td>\n",
       "</tr>\n",
       "<tr>\n",
       "  <th>MONTH_4</th>        <td>   -1.7460</td> <td>    0.060</td> <td>  -29.231</td> <td> 0.000</td> <td>   -1.863</td> <td>   -1.629</td>\n",
       "</tr>\n",
       "<tr>\n",
       "  <th>MONTH_5</th>        <td>   -1.4113</td> <td>    0.056</td> <td>  -25.091</td> <td> 0.000</td> <td>   -1.522</td> <td>   -1.301</td>\n",
       "</tr>\n",
       "<tr>\n",
       "  <th>MONTH_6</th>        <td>   -0.5670</td> <td>    0.049</td> <td>  -11.623</td> <td> 0.000</td> <td>   -0.663</td> <td>   -0.471</td>\n",
       "</tr>\n",
       "<tr>\n",
       "  <th>MONTH_7</th>        <td>   -0.8950</td> <td>    0.050</td> <td>  -17.918</td> <td> 0.000</td> <td>   -0.993</td> <td>   -0.797</td>\n",
       "</tr>\n",
       "<tr>\n",
       "  <th>MONTH_8</th>        <td>   -1.3465</td> <td>    0.054</td> <td>  -25.024</td> <td> 0.000</td> <td>   -1.452</td> <td>   -1.241</td>\n",
       "</tr>\n",
       "<tr>\n",
       "  <th>MONTH_9</th>        <td>   -2.5086</td> <td>    0.070</td> <td>  -35.878</td> <td> 0.000</td> <td>   -2.646</td> <td>   -2.372</td>\n",
       "</tr>\n",
       "<tr>\n",
       "  <th>MONTH_10</th>       <td>   -2.6757</td> <td>    0.072</td> <td>  -37.401</td> <td> 0.000</td> <td>   -2.816</td> <td>   -2.535</td>\n",
       "</tr>\n",
       "<tr>\n",
       "  <th>MONTH_11</th>       <td>   -2.1491</td> <td>    0.064</td> <td>  -33.687</td> <td> 0.000</td> <td>   -2.274</td> <td>   -2.024</td>\n",
       "</tr>\n",
       "<tr>\n",
       "  <th>MONTH_12</th>       <td>   -1.2282</td> <td>    0.055</td> <td>  -22.175</td> <td> 0.000</td> <td>   -1.337</td> <td>   -1.120</td>\n",
       "</tr>\n",
       "<tr>\n",
       "  <th>DAY_OF_WEEK_2</th>  <td>   -1.0866</td> <td>    0.044</td> <td>  -24.513</td> <td> 0.000</td> <td>   -1.173</td> <td>   -1.000</td>\n",
       "</tr>\n",
       "<tr>\n",
       "  <th>DAY_OF_WEEK_3</th>  <td>   -0.9291</td> <td>    0.044</td> <td>  -21.343</td> <td> 0.000</td> <td>   -1.014</td> <td>   -0.844</td>\n",
       "</tr>\n",
       "<tr>\n",
       "  <th>DAY_OF_WEEK_4</th>  <td>   -0.6165</td> <td>    0.041</td> <td>  -14.901</td> <td> 0.000</td> <td>   -0.698</td> <td>   -0.535</td>\n",
       "</tr>\n",
       "<tr>\n",
       "  <th>DAY_OF_WEEK_5</th>  <td>   -0.8470</td> <td>    0.043</td> <td>  -19.830</td> <td> 0.000</td> <td>   -0.931</td> <td>   -0.763</td>\n",
       "</tr>\n",
       "<tr>\n",
       "  <th>DAY_OF_WEEK_6</th>  <td>   -1.4765</td> <td>    0.052</td> <td>  -28.551</td> <td> 0.000</td> <td>   -1.578</td> <td>   -1.375</td>\n",
       "</tr>\n",
       "<tr>\n",
       "  <th>DAY_OF_WEEK_7</th>  <td>   -1.2365</td> <td>    0.046</td> <td>  -26.666</td> <td> 0.000</td> <td>   -1.327</td> <td>   -1.146</td>\n",
       "</tr>\n",
       "<tr>\n",
       "  <th>AIRLINE_AS</th>     <td>   -2.4654</td> <td>    0.109</td> <td>  -22.635</td> <td> 0.000</td> <td>   -2.679</td> <td>   -2.252</td>\n",
       "</tr>\n",
       "<tr>\n",
       "  <th>AIRLINE_B6</th>     <td>   -0.2760</td> <td>    0.061</td> <td>   -4.509</td> <td> 0.000</td> <td>   -0.396</td> <td>   -0.156</td>\n",
       "</tr>\n",
       "<tr>\n",
       "  <th>AIRLINE_DL</th>     <td>   -1.7543</td> <td>    0.053</td> <td>  -32.852</td> <td> 0.000</td> <td>   -1.859</td> <td>   -1.650</td>\n",
       "</tr>\n",
       "<tr>\n",
       "  <th>AIRLINE_EV</th>     <td>   -0.9516</td> <td>    0.050</td> <td>  -19.018</td> <td> 0.000</td> <td>   -1.050</td> <td>   -0.854</td>\n",
       "</tr>\n",
       "<tr>\n",
       "  <th>AIRLINE_F9</th>     <td>   -0.0189</td> <td>    0.092</td> <td>   -0.206</td> <td> 0.837</td> <td>   -0.199</td> <td>    0.161</td>\n",
       "</tr>\n",
       "<tr>\n",
       "  <th>AIRLINE_HA</th>     <td>   -2.8962</td> <td>    0.151</td> <td>  -19.218</td> <td> 0.000</td> <td>   -3.192</td> <td>   -2.601</td>\n",
       "</tr>\n",
       "<tr>\n",
       "  <th>AIRLINE_MQ</th>     <td>   -0.6533</td> <td>    0.064</td> <td>  -10.197</td> <td> 0.000</td> <td>   -0.779</td> <td>   -0.528</td>\n",
       "</tr>\n",
       "<tr>\n",
       "  <th>AIRLINE_NK</th>     <td>    0.8256</td> <td>    0.078</td> <td>   10.645</td> <td> 0.000</td> <td>    0.674</td> <td>    0.978</td>\n",
       "</tr>\n",
       "<tr>\n",
       "  <th>AIRLINE_OO</th>     <td>   -1.3530</td> <td>    0.053</td> <td>  -25.759</td> <td> 0.000</td> <td>   -1.456</td> <td>   -1.250</td>\n",
       "</tr>\n",
       "<tr>\n",
       "  <th>AIRLINE_UA</th>     <td>    0.0098</td> <td>    0.051</td> <td>    0.193</td> <td> 0.847</td> <td>   -0.089</td> <td>    0.109</td>\n",
       "</tr>\n",
       "<tr>\n",
       "  <th>AIRLINE_US</th>     <td>   -1.4090</td> <td>    0.079</td> <td>  -17.819</td> <td> 0.000</td> <td>   -1.564</td> <td>   -1.254</td>\n",
       "</tr>\n",
       "<tr>\n",
       "  <th>AIRLINE_VX</th>     <td>   -0.7976</td> <td>    0.127</td> <td>   -6.261</td> <td> 0.000</td> <td>   -1.047</td> <td>   -0.548</td>\n",
       "</tr>\n",
       "<tr>\n",
       "  <th>AIRLINE_WN</th>     <td>   -0.8553</td> <td>    0.039</td> <td>  -21.971</td> <td> 0.000</td> <td>   -0.932</td> <td>   -0.779</td>\n",
       "</tr>\n",
       "</table>"
      ],
      "text/plain": [
       "<class 'statsmodels.iolib.summary.Summary'>\n",
       "\"\"\"\n",
       "                           Logit Regression Results                           \n",
       "==============================================================================\n",
       "Dep. Variable:           DELAY_OR_NOT   No. Observations:                80980\n",
       "Model:                          Logit   Df Residuals:                    80945\n",
       "Method:                           MLE   Df Model:                           34\n",
       "Date:                Mon, 06 Nov 2017   Pseudo R-squ.:                  0.2201\n",
       "Time:                        06:51:25   Log-Likelihood:                -20748.\n",
       "converged:                       True   LL-Null:                       -26603.\n",
       "                                        LLR p-value:                     0.000\n",
       "==================================================================================\n",
       "                     coef    std err          z      P>|z|      [0.025      0.975]\n",
       "----------------------------------------------------------------------------------\n",
       "SCHED_DEP          0.1793      0.004     51.086      0.000       0.172       0.186\n",
       "SCHED_ARR         -0.0365      0.003    -11.791      0.000      -0.043      -0.030\n",
       "DISTANCE           0.0021      0.000     18.243      0.000       0.002       0.002\n",
       "SCHEDULED_TIME    -0.0903      0.001    -60.300      0.000      -0.093      -0.087\n",
       "ELAPSED_TIME       0.0712      0.001     58.361      0.000       0.069       0.074\n",
       "MONTH_2           -0.8256      0.053    -15.519      0.000      -0.930      -0.721\n",
       "MONTH_3           -1.2977      0.054    -23.987      0.000      -1.404      -1.192\n",
       "MONTH_4           -1.7460      0.060    -29.231      0.000      -1.863      -1.629\n",
       "MONTH_5           -1.4113      0.056    -25.091      0.000      -1.522      -1.301\n",
       "MONTH_6           -0.5670      0.049    -11.623      0.000      -0.663      -0.471\n",
       "MONTH_7           -0.8950      0.050    -17.918      0.000      -0.993      -0.797\n",
       "MONTH_8           -1.3465      0.054    -25.024      0.000      -1.452      -1.241\n",
       "MONTH_9           -2.5086      0.070    -35.878      0.000      -2.646      -2.372\n",
       "MONTH_10          -2.6757      0.072    -37.401      0.000      -2.816      -2.535\n",
       "MONTH_11          -2.1491      0.064    -33.687      0.000      -2.274      -2.024\n",
       "MONTH_12          -1.2282      0.055    -22.175      0.000      -1.337      -1.120\n",
       "DAY_OF_WEEK_2     -1.0866      0.044    -24.513      0.000      -1.173      -1.000\n",
       "DAY_OF_WEEK_3     -0.9291      0.044    -21.343      0.000      -1.014      -0.844\n",
       "DAY_OF_WEEK_4     -0.6165      0.041    -14.901      0.000      -0.698      -0.535\n",
       "DAY_OF_WEEK_5     -0.8470      0.043    -19.830      0.000      -0.931      -0.763\n",
       "DAY_OF_WEEK_6     -1.4765      0.052    -28.551      0.000      -1.578      -1.375\n",
       "DAY_OF_WEEK_7     -1.2365      0.046    -26.666      0.000      -1.327      -1.146\n",
       "AIRLINE_AS        -2.4654      0.109    -22.635      0.000      -2.679      -2.252\n",
       "AIRLINE_B6        -0.2760      0.061     -4.509      0.000      -0.396      -0.156\n",
       "AIRLINE_DL        -1.7543      0.053    -32.852      0.000      -1.859      -1.650\n",
       "AIRLINE_EV        -0.9516      0.050    -19.018      0.000      -1.050      -0.854\n",
       "AIRLINE_F9        -0.0189      0.092     -0.206      0.837      -0.199       0.161\n",
       "AIRLINE_HA        -2.8962      0.151    -19.218      0.000      -3.192      -2.601\n",
       "AIRLINE_MQ        -0.6533      0.064    -10.197      0.000      -0.779      -0.528\n",
       "AIRLINE_NK         0.8256      0.078     10.645      0.000       0.674       0.978\n",
       "AIRLINE_OO        -1.3530      0.053    -25.759      0.000      -1.456      -1.250\n",
       "AIRLINE_UA         0.0098      0.051      0.193      0.847      -0.089       0.109\n",
       "AIRLINE_US        -1.4090      0.079    -17.819      0.000      -1.564      -1.254\n",
       "AIRLINE_VX        -0.7976      0.127     -6.261      0.000      -1.047      -0.548\n",
       "AIRLINE_WN        -0.8553      0.039    -21.971      0.000      -0.932      -0.779\n",
       "==================================================================================\n",
       "\"\"\""
      ]
     },
     "execution_count": 1297,
     "metadata": {},
     "output_type": "execute_result"
    }
   ],
   "source": [
    "# LOGISTIC IN STATS MODEL\n",
    "import statsmodels.api as sm\n",
    "from sklearn.metrics import r2_score\n",
    "log = sm.Logit(y_train_small, x_train_dummy)\n",
    "log.fit().summary()"
   ]
  },
  {
   "cell_type": "markdown",
   "metadata": {},
   "source": [
    "# Discussion 5\n",
    "It can be seen that certain months (esp towards the end of the year perhaps due to snow), day_of_week, certain airline are impactful on the delay of flights while scheduled arrival and departure delay, distance, scheduled and elapsed time are less impactful. Thus to predict if a flight will be late one should look at month, day_of_week and airline."
   ]
  },
  {
   "cell_type": "markdown",
   "metadata": {},
   "source": [
    "# Question 6"
   ]
  },
  {
   "cell_type": "markdown",
   "metadata": {},
   "source": [
    "I already evaluated my model on the small and large test in part 4 after each model. Can scroll back up and see. The accuraries are below. They were very close to teh numbers I got when testing with teh small test set showing no overfitting:\n",
    "- Logistic: 0.918\n",
    "- LDA: 0.917\n",
    "- QDA: 0.86\n",
    "- Decision Tree: 0.903"
   ]
  },
  {
   "cell_type": "markdown",
   "metadata": {},
   "source": [
    "# Question 7"
   ]
  },
  {
   "cell_type": "code",
   "execution_count": 1222,
   "metadata": {
    "collapsed": true
   },
   "outputs": [],
   "source": [
    "#Loading dataset\n",
    "df = pd.read_csv('cs109a_midterm.csv')\n",
    "\n",
    "# Creating a new variable according to ARRIVAL_DELAY\n",
    "df[\"DELAY_OR_NOT\"]=\"\"\n",
    "df[\"DELAY_OR_NOT\"][df['ARRIVAL_DELAY']>=15]=1\n",
    "df[\"DELAY_OR_NOT\"][df['ARRIVAL_DELAY']<15]=0"
   ]
  },
  {
   "cell_type": "code",
   "execution_count": 1235,
   "metadata": {},
   "outputs": [
    {
     "data": {
      "text/plain": [
       "(82107, 9)"
      ]
     },
     "execution_count": 1235,
     "metadata": {},
     "output_type": "execute_result"
    }
   ],
   "source": [
    "# CREATING A SUBSAMPLE WITH DATA WHERE DELAY=1\n",
    "df_delay=df.loc[df['DELAY_OR_NOT']==1]\n",
    "df_delay=df_delay.drop(['DATE', 'DEPARTURE_DELAY', 'ORIGIN_AIRPORT', 'DESTINATION_AIRPORT','SECURITY_DELAY', 'AIRLINE_DELAY','LATE_AIRCRAFT_DELAY','WEATHER_DELAY', 'AIR_SYSTEM_DELAY', 'DAY','TAIL_NUMBER', 'FLIGHT_NUMBER', 'DELAY_OR_NOT'], axis=1)\n",
    "df_delay.shape"
   ]
  },
  {
   "cell_type": "code",
   "execution_count": 1236,
   "metadata": {},
   "outputs": [
    {
     "data": {
      "text/html": [
       "<div>\n",
       "<style>\n",
       "    .dataframe thead tr:only-child th {\n",
       "        text-align: right;\n",
       "    }\n",
       "\n",
       "    .dataframe thead th {\n",
       "        text-align: left;\n",
       "    }\n",
       "\n",
       "    .dataframe tbody tr th {\n",
       "        vertical-align: top;\n",
       "    }\n",
       "</style>\n",
       "<table border=\"1\" class=\"dataframe\">\n",
       "  <thead>\n",
       "    <tr style=\"text-align: right;\">\n",
       "      <th></th>\n",
       "      <th>MONTH</th>\n",
       "      <th>DAY_OF_WEEK</th>\n",
       "      <th>AIRLINE</th>\n",
       "      <th>SCHED_DEP</th>\n",
       "      <th>SCHED_ARR</th>\n",
       "      <th>ARRIVAL_DELAY</th>\n",
       "      <th>DISTANCE</th>\n",
       "      <th>SCHEDULED_TIME</th>\n",
       "      <th>ELAPSED_TIME</th>\n",
       "    </tr>\n",
       "  </thead>\n",
       "  <tbody>\n",
       "    <tr>\n",
       "      <th>19</th>\n",
       "      <td>1</td>\n",
       "      <td>7</td>\n",
       "      <td>WN</td>\n",
       "      <td>18.583333</td>\n",
       "      <td>20.833333</td>\n",
       "      <td>132.0</td>\n",
       "      <td>666</td>\n",
       "      <td>135.0</td>\n",
       "      <td>146.0</td>\n",
       "    </tr>\n",
       "    <tr>\n",
       "      <th>25</th>\n",
       "      <td>7</td>\n",
       "      <td>3</td>\n",
       "      <td>EV</td>\n",
       "      <td>17.550000</td>\n",
       "      <td>19.333333</td>\n",
       "      <td>98.0</td>\n",
       "      <td>482</td>\n",
       "      <td>107.0</td>\n",
       "      <td>93.0</td>\n",
       "    </tr>\n",
       "    <tr>\n",
       "      <th>28</th>\n",
       "      <td>3</td>\n",
       "      <td>1</td>\n",
       "      <td>OO</td>\n",
       "      <td>18.250000</td>\n",
       "      <td>21.033333</td>\n",
       "      <td>128.0</td>\n",
       "      <td>867</td>\n",
       "      <td>167.0</td>\n",
       "      <td>161.0</td>\n",
       "    </tr>\n",
       "    <tr>\n",
       "      <th>54</th>\n",
       "      <td>3</td>\n",
       "      <td>4</td>\n",
       "      <td>US</td>\n",
       "      <td>14.000000</td>\n",
       "      <td>15.050000</td>\n",
       "      <td>38.0</td>\n",
       "      <td>184</td>\n",
       "      <td>63.0</td>\n",
       "      <td>106.0</td>\n",
       "    </tr>\n",
       "    <tr>\n",
       "      <th>59</th>\n",
       "      <td>4</td>\n",
       "      <td>1</td>\n",
       "      <td>EV</td>\n",
       "      <td>16.683333</td>\n",
       "      <td>17.750000</td>\n",
       "      <td>148.0</td>\n",
       "      <td>190</td>\n",
       "      <td>64.0</td>\n",
       "      <td>72.0</td>\n",
       "    </tr>\n",
       "  </tbody>\n",
       "</table>\n",
       "</div>"
      ],
      "text/plain": [
       "    MONTH  DAY_OF_WEEK AIRLINE  SCHED_DEP  SCHED_ARR  ARRIVAL_DELAY  DISTANCE  \\\n",
       "19      1            7      WN  18.583333  20.833333          132.0       666   \n",
       "25      7            3      EV  17.550000  19.333333           98.0       482   \n",
       "28      3            1      OO  18.250000  21.033333          128.0       867   \n",
       "54      3            4      US  14.000000  15.050000           38.0       184   \n",
       "59      4            1      EV  16.683333  17.750000          148.0       190   \n",
       "\n",
       "    SCHEDULED_TIME  ELAPSED_TIME  \n",
       "19           135.0         146.0  \n",
       "25           107.0          93.0  \n",
       "28           167.0         161.0  \n",
       "54            63.0         106.0  \n",
       "59            64.0          72.0  "
      ]
     },
     "execution_count": 1236,
     "metadata": {},
     "output_type": "execute_result"
    }
   ],
   "source": [
    "# CONVERTING CLOCK TIME TO SECONDS INTEGER (TOOK THREE HOURS) for x_train_dummy\n",
    "z = df_delay['SCHED_DEP'].str.split(pat = ':', expand=True)\n",
    "x = z.values\n",
    "x = z.astype(float)\n",
    "x = pd.DataFrame(x)\n",
    "x.iloc[:,2:3]=x.iloc[:,2:3]*(1/3600)\n",
    "x.iloc[:,1:2]=x.iloc[:,1:2]*(1/60)\n",
    "x['sum']=x.sum(axis=1)\n",
    "df_delay['SCHED_DEP']=x['sum']\n",
    "\n",
    "z = df_delay['SCHED_ARR'].str.split(pat = ':', expand=True)\n",
    "x = z.values\n",
    "x = z.astype(float)\n",
    "x = pd.DataFrame(x)\n",
    "x.iloc[:,2:3]=x.iloc[:,2:3]*(1/3600)\n",
    "x.iloc[:,1:2]=x.iloc[:,1:2]*(1/60)\n",
    "x['sum']=x.sum(axis=1)\n",
    "df_delay['SCHED_ARR']=x['sum']\n",
    "\n",
    "df_delay.head()"
   ]
  },
  {
   "cell_type": "code",
   "execution_count": 1237,
   "metadata": {},
   "outputs": [
    {
     "data": {
      "text/plain": [
       "((82107, 8), (82107, 1))"
      ]
     },
     "execution_count": 1237,
     "metadata": {},
     "output_type": "execute_result"
    }
   ],
   "source": [
    "y_df=df_delay.iloc[:,5:6]\n",
    "df_delay = df_delay.drop(['ARRIVAL_DELAY'], axis=1)\n",
    "df_delay.shape, y_df.shape"
   ]
  },
  {
   "cell_type": "code",
   "execution_count": 1238,
   "metadata": {},
   "outputs": [
    {
     "data": {
      "text/html": [
       "<div>\n",
       "<style>\n",
       "    .dataframe thead tr:only-child th {\n",
       "        text-align: right;\n",
       "    }\n",
       "\n",
       "    .dataframe thead th {\n",
       "        text-align: left;\n",
       "    }\n",
       "\n",
       "    .dataframe tbody tr th {\n",
       "        vertical-align: top;\n",
       "    }\n",
       "</style>\n",
       "<table border=\"1\" class=\"dataframe\">\n",
       "  <thead>\n",
       "    <tr style=\"text-align: right;\">\n",
       "      <th></th>\n",
       "      <th>ARRIVAL_DELAY</th>\n",
       "    </tr>\n",
       "  </thead>\n",
       "  <tbody>\n",
       "    <tr>\n",
       "      <th>19</th>\n",
       "      <td>132.0</td>\n",
       "    </tr>\n",
       "    <tr>\n",
       "      <th>25</th>\n",
       "      <td>98.0</td>\n",
       "    </tr>\n",
       "    <tr>\n",
       "      <th>28</th>\n",
       "      <td>128.0</td>\n",
       "    </tr>\n",
       "    <tr>\n",
       "      <th>54</th>\n",
       "      <td>38.0</td>\n",
       "    </tr>\n",
       "    <tr>\n",
       "      <th>59</th>\n",
       "      <td>148.0</td>\n",
       "    </tr>\n",
       "  </tbody>\n",
       "</table>\n",
       "</div>"
      ],
      "text/plain": [
       "    ARRIVAL_DELAY\n",
       "19          132.0\n",
       "25           98.0\n",
       "28          128.0\n",
       "54           38.0\n",
       "59          148.0"
      ]
     },
     "execution_count": 1238,
     "metadata": {},
     "output_type": "execute_result"
    }
   ],
   "source": [
    "y_df.head()"
   ]
  },
  {
   "cell_type": "code",
   "execution_count": 1239,
   "metadata": {},
   "outputs": [
    {
     "data": {
      "text/html": [
       "<div>\n",
       "<style>\n",
       "    .dataframe thead tr:only-child th {\n",
       "        text-align: right;\n",
       "    }\n",
       "\n",
       "    .dataframe thead th {\n",
       "        text-align: left;\n",
       "    }\n",
       "\n",
       "    .dataframe tbody tr th {\n",
       "        vertical-align: top;\n",
       "    }\n",
       "</style>\n",
       "<table border=\"1\" class=\"dataframe\">\n",
       "  <thead>\n",
       "    <tr style=\"text-align: right;\">\n",
       "      <th></th>\n",
       "      <th>ARRIVAL_DELAY</th>\n",
       "    </tr>\n",
       "  </thead>\n",
       "  <tbody>\n",
       "    <tr>\n",
       "      <th>19</th>\n",
       "      <td>4.882802</td>\n",
       "    </tr>\n",
       "    <tr>\n",
       "      <th>25</th>\n",
       "      <td>4.584967</td>\n",
       "    </tr>\n",
       "    <tr>\n",
       "      <th>28</th>\n",
       "      <td>4.852030</td>\n",
       "    </tr>\n",
       "    <tr>\n",
       "      <th>54</th>\n",
       "      <td>3.637586</td>\n",
       "    </tr>\n",
       "    <tr>\n",
       "      <th>59</th>\n",
       "      <td>4.997212</td>\n",
       "    </tr>\n",
       "  </tbody>\n",
       "</table>\n",
       "</div>"
      ],
      "text/plain": [
       "    ARRIVAL_DELAY\n",
       "19       4.882802\n",
       "25       4.584967\n",
       "28       4.852030\n",
       "54       3.637586\n",
       "59       4.997212"
      ]
     },
     "execution_count": 1239,
     "metadata": {},
     "output_type": "execute_result"
    }
   ],
   "source": [
    "#log (ln) tranformation of y\n",
    "y_df= np.log(y_df.ARRIVAL_DELAY)\n",
    "y_df=pd.DataFrame(y_df)\n",
    "y_df.head()"
   ]
  },
  {
   "cell_type": "code",
   "execution_count": 1240,
   "metadata": {},
   "outputs": [
    {
     "name": "stdout",
     "output_type": "stream",
     "text": [
      "shapes: (41053, 8) (41053, 1) (41054, 8) (41054, 1)\n"
     ]
    }
   ],
   "source": [
    "# creating the smaller train/test set on which we will do the bulk of the modelling work\n",
    "x_train_small, x_test_small, y_train_small, y_test_small= train_test_split(df_delay, y_df, test_size = 0.5)\n",
    "print(\"shapes:\", x_train_small.shape, y_train_small.shape, x_test_small.shape, y_test_small.shape)"
   ]
  },
  {
   "cell_type": "code",
   "execution_count": 1241,
   "metadata": {},
   "outputs": [
    {
     "data": {
      "text/plain": [
       "((41053, 35), (41054, 35))"
      ]
     },
     "execution_count": 1241,
     "metadata": {},
     "output_type": "execute_result"
    }
   ],
   "source": [
    "x_train_dummy = pd.get_dummies(x_train_small, columns=[\"MONTH\", \"DAY_OF_WEEK\", \"AIRLINE\"], drop_first=True)\n",
    "x_test_dummy = pd.get_dummies(x_test_small, columns=[\"MONTH\", \"DAY_OF_WEEK\", \"AIRLINE\"], drop_first=True)\n",
    "x_train_dummy.shape, x_test_dummy.shape"
   ]
  },
  {
   "cell_type": "code",
   "execution_count": 1242,
   "metadata": {},
   "outputs": [
    {
     "data": {
      "text/html": [
       "<div>\n",
       "<style>\n",
       "    .dataframe thead tr:only-child th {\n",
       "        text-align: right;\n",
       "    }\n",
       "\n",
       "    .dataframe thead th {\n",
       "        text-align: left;\n",
       "    }\n",
       "\n",
       "    .dataframe tbody tr th {\n",
       "        vertical-align: top;\n",
       "    }\n",
       "</style>\n",
       "<table border=\"1\" class=\"dataframe\">\n",
       "  <thead>\n",
       "    <tr style=\"text-align: right;\">\n",
       "      <th></th>\n",
       "      <th>SCHED_DEP</th>\n",
       "      <th>SCHED_ARR</th>\n",
       "      <th>DISTANCE</th>\n",
       "      <th>SCHEDULED_TIME</th>\n",
       "      <th>ELAPSED_TIME</th>\n",
       "      <th>MONTH_2</th>\n",
       "      <th>MONTH_3</th>\n",
       "      <th>MONTH_4</th>\n",
       "      <th>MONTH_5</th>\n",
       "      <th>MONTH_6</th>\n",
       "      <th>...</th>\n",
       "      <th>AIRLINE_EV</th>\n",
       "      <th>AIRLINE_F9</th>\n",
       "      <th>AIRLINE_HA</th>\n",
       "      <th>AIRLINE_MQ</th>\n",
       "      <th>AIRLINE_NK</th>\n",
       "      <th>AIRLINE_OO</th>\n",
       "      <th>AIRLINE_UA</th>\n",
       "      <th>AIRLINE_US</th>\n",
       "      <th>AIRLINE_VX</th>\n",
       "      <th>AIRLINE_WN</th>\n",
       "    </tr>\n",
       "  </thead>\n",
       "  <tbody>\n",
       "    <tr>\n",
       "      <th>183567</th>\n",
       "      <td>20.00</td>\n",
       "      <td>21.116667</td>\n",
       "      <td>223</td>\n",
       "      <td>67.0</td>\n",
       "      <td>109.0</td>\n",
       "      <td>0</td>\n",
       "      <td>0</td>\n",
       "      <td>0</td>\n",
       "      <td>1</td>\n",
       "      <td>0</td>\n",
       "      <td>...</td>\n",
       "      <td>0</td>\n",
       "      <td>0</td>\n",
       "      <td>0</td>\n",
       "      <td>0</td>\n",
       "      <td>0</td>\n",
       "      <td>0</td>\n",
       "      <td>0</td>\n",
       "      <td>0</td>\n",
       "      <td>0</td>\n",
       "      <td>0</td>\n",
       "    </tr>\n",
       "    <tr>\n",
       "      <th>785070</th>\n",
       "      <td>15.85</td>\n",
       "      <td>18.150000</td>\n",
       "      <td>1723</td>\n",
       "      <td>258.0</td>\n",
       "      <td>246.0</td>\n",
       "      <td>0</td>\n",
       "      <td>0</td>\n",
       "      <td>0</td>\n",
       "      <td>0</td>\n",
       "      <td>0</td>\n",
       "      <td>...</td>\n",
       "      <td>0</td>\n",
       "      <td>0</td>\n",
       "      <td>0</td>\n",
       "      <td>0</td>\n",
       "      <td>0</td>\n",
       "      <td>0</td>\n",
       "      <td>1</td>\n",
       "      <td>0</td>\n",
       "      <td>0</td>\n",
       "      <td>0</td>\n",
       "    </tr>\n",
       "    <tr>\n",
       "      <th>588168</th>\n",
       "      <td>23.00</td>\n",
       "      <td>1.833333</td>\n",
       "      <td>1303</td>\n",
       "      <td>230.0</td>\n",
       "      <td>226.0</td>\n",
       "      <td>0</td>\n",
       "      <td>0</td>\n",
       "      <td>0</td>\n",
       "      <td>0</td>\n",
       "      <td>0</td>\n",
       "      <td>...</td>\n",
       "      <td>0</td>\n",
       "      <td>0</td>\n",
       "      <td>0</td>\n",
       "      <td>0</td>\n",
       "      <td>0</td>\n",
       "      <td>0</td>\n",
       "      <td>0</td>\n",
       "      <td>0</td>\n",
       "      <td>0</td>\n",
       "      <td>0</td>\n",
       "    </tr>\n",
       "    <tr>\n",
       "      <th>235776</th>\n",
       "      <td>18.15</td>\n",
       "      <td>19.316667</td>\n",
       "      <td>305</td>\n",
       "      <td>70.0</td>\n",
       "      <td>62.0</td>\n",
       "      <td>0</td>\n",
       "      <td>0</td>\n",
       "      <td>0</td>\n",
       "      <td>0</td>\n",
       "      <td>0</td>\n",
       "      <td>...</td>\n",
       "      <td>0</td>\n",
       "      <td>0</td>\n",
       "      <td>0</td>\n",
       "      <td>0</td>\n",
       "      <td>1</td>\n",
       "      <td>0</td>\n",
       "      <td>0</td>\n",
       "      <td>0</td>\n",
       "      <td>0</td>\n",
       "      <td>0</td>\n",
       "    </tr>\n",
       "    <tr>\n",
       "      <th>215658</th>\n",
       "      <td>19.50</td>\n",
       "      <td>21.050000</td>\n",
       "      <td>431</td>\n",
       "      <td>93.0</td>\n",
       "      <td>118.0</td>\n",
       "      <td>1</td>\n",
       "      <td>0</td>\n",
       "      <td>0</td>\n",
       "      <td>0</td>\n",
       "      <td>0</td>\n",
       "      <td>...</td>\n",
       "      <td>0</td>\n",
       "      <td>0</td>\n",
       "      <td>0</td>\n",
       "      <td>1</td>\n",
       "      <td>0</td>\n",
       "      <td>0</td>\n",
       "      <td>0</td>\n",
       "      <td>0</td>\n",
       "      <td>0</td>\n",
       "      <td>0</td>\n",
       "    </tr>\n",
       "  </tbody>\n",
       "</table>\n",
       "<p>5 rows × 35 columns</p>\n",
       "</div>"
      ],
      "text/plain": [
       "        SCHED_DEP  SCHED_ARR  DISTANCE  SCHEDULED_TIME  ELAPSED_TIME  MONTH_2  \\\n",
       "183567      20.00  21.116667       223            67.0         109.0        0   \n",
       "785070      15.85  18.150000      1723           258.0         246.0        0   \n",
       "588168      23.00   1.833333      1303           230.0         226.0        0   \n",
       "235776      18.15  19.316667       305            70.0          62.0        0   \n",
       "215658      19.50  21.050000       431            93.0         118.0        1   \n",
       "\n",
       "        MONTH_3  MONTH_4  MONTH_5  MONTH_6     ...      AIRLINE_EV  \\\n",
       "183567        0        0        1        0     ...               0   \n",
       "785070        0        0        0        0     ...               0   \n",
       "588168        0        0        0        0     ...               0   \n",
       "235776        0        0        0        0     ...               0   \n",
       "215658        0        0        0        0     ...               0   \n",
       "\n",
       "        AIRLINE_F9  AIRLINE_HA  AIRLINE_MQ  AIRLINE_NK  AIRLINE_OO  \\\n",
       "183567           0           0           0           0           0   \n",
       "785070           0           0           0           0           0   \n",
       "588168           0           0           0           0           0   \n",
       "235776           0           0           0           1           0   \n",
       "215658           0           0           1           0           0   \n",
       "\n",
       "        AIRLINE_UA  AIRLINE_US  AIRLINE_VX  AIRLINE_WN  \n",
       "183567           0           0           0           0  \n",
       "785070           1           0           0           0  \n",
       "588168           0           0           0           0  \n",
       "235776           0           0           0           0  \n",
       "215658           0           0           0           0  \n",
       "\n",
       "[5 rows x 35 columns]"
      ]
     },
     "execution_count": 1242,
     "metadata": {},
     "output_type": "execute_result"
    }
   ],
   "source": [
    "x_train_dummy.head()"
   ]
  },
  {
   "cell_type": "code",
   "execution_count": 1256,
   "metadata": {},
   "outputs": [
    {
     "name": "stdout",
     "output_type": "stream",
     "text": [
      "R2 value simple linear regression no regularization: 0.0380176610202\n"
     ]
    }
   ],
   "source": [
    "#SIMPLE LINEAR REGRESSION\n",
    "lin = LinearRegression().fit(x_train_dummy, y_train_small)\n",
    "y_pred = lin.predict(x_test_dummy)\n",
    "print(\"R2 value simple linear regression no regularization:\", r2_score(y_test_small,y_pred))"
   ]
  },
  {
   "cell_type": "code",
   "execution_count": 1257,
   "metadata": {},
   "outputs": [
    {
     "data": {
      "text/plain": [
       "array([[ 0.01610536,  0.00275737, -0.00042943,  0.0025154 ,  0.00078975,\n",
       "         0.00810968, -0.03051039, -0.05870051,  0.02293808,  0.11681981,\n",
       "         0.04465093,  0.02756396, -0.13774675, -0.15819743, -0.09069273,\n",
       "         0.02215648, -0.04913313, -0.08651228, -0.07170295, -0.08351138,\n",
       "        -0.10680034, -0.0553249 , -0.16064487,  0.09474617, -0.07443305,\n",
       "         0.06781715,  0.16113295, -0.27713441,  0.07770296,  0.18662437,\n",
       "         0.00245487,  0.07802872, -0.13997466,  0.02882343, -0.02532284]])"
      ]
     },
     "execution_count": 1257,
     "metadata": {},
     "output_type": "execute_result"
    }
   ],
   "source": [
    "lin.coef_"
   ]
  },
  {
   "cell_type": "code",
   "execution_count": 1250,
   "metadata": {},
   "outputs": [
    {
     "name": "stdout",
     "output_type": "stream",
     "text": [
      "R2 value with RIDGE: 0.0380078186563\n",
      "R2 value with LASSO: 0.0379587208425\n"
     ]
    }
   ],
   "source": [
    "# TRYING A RIDGE\n",
    "from sklearn.linear_model import RidgeCV\n",
    "ridgeCV = RidgeCV(alphas=(0.000001, 0.0001, 0.001, 0.01, 0.1, 1.0, 10, 100), cv=5)\n",
    "ridgeCV.fit(x_train_dummy, y_train_small)\n",
    "print(\"R2 value with RIDGE:\", ridgeCV.score(x_test_dummy, y_test_small))\n",
    "\n",
    "# TRYING A LASSO\n",
    "from sklearn.linear_model import LassoCV\n",
    "lassoCV = LassoCV(alphas=(0.0001, 0.001, 0.01, 0.1, 1.0, 10), cv=5)\n",
    "lassoCV.fit(x_train_dummy, y_train_small)\n",
    "print(\"R2 value with LASSO:\", lassoCV.score(x_test_dummy, y_test_small))"
   ]
  },
  {
   "cell_type": "markdown",
   "metadata": {},
   "source": [
    "# Question 8"
   ]
  },
  {
   "cell_type": "code",
   "execution_count": 1254,
   "metadata": {},
   "outputs": [
    {
     "data": {
      "text/plain": [
       "array([[ 1.27253421,  0.99762927,  0.99793521,  0.94581289,  1.07748346,\n",
       "         1.4210531 ,  0.97787181,  0.66710804,  0.89966253,  2.0306144 ,\n",
       "         1.46771726,  0.9615269 ,  0.30746179,  0.28594278,  0.39487372,\n",
       "         1.02591568,  0.60711128,  0.71396963,  1.07502197,  0.76321882,\n",
       "         0.39444509,  0.50315048,  0.24516164,  1.70723153,  0.41311909,\n",
       "         1.24938415,  2.39653616,  0.42945465,  1.66742912,  6.51282208,\n",
       "         0.7886579 ,  1.93052358,  0.58128765,  1.22560375,  1.48685943]])"
      ]
     },
     "execution_count": 1254,
     "metadata": {},
     "output_type": "execute_result"
    }
   ],
   "source": [
    "# Reprinting the exponent of the log odds from the logistic model\n",
    "np.exp(searchCV.coef_)"
   ]
  },
  {
   "cell_type": "code",
   "execution_count": 1258,
   "metadata": {},
   "outputs": [
    {
     "data": {
      "text/plain": [
       "array([[ 0.01610536,  0.00275737, -0.00042943,  0.0025154 ,  0.00078975,\n",
       "         0.00810968, -0.03051039, -0.05870051,  0.02293808,  0.11681981,\n",
       "         0.04465093,  0.02756396, -0.13774675, -0.15819743, -0.09069273,\n",
       "         0.02215648, -0.04913313, -0.08651228, -0.07170295, -0.08351138,\n",
       "        -0.10680034, -0.0553249 , -0.16064487,  0.09474617, -0.07443305,\n",
       "         0.06781715,  0.16113295, -0.27713441,  0.07770296,  0.18662437,\n",
       "         0.00245487,  0.07802872, -0.13997466,  0.02882343, -0.02532284]])"
      ]
     },
     "execution_count": 1258,
     "metadata": {},
     "output_type": "execute_result"
    }
   ],
   "source": [
    "# COEFFICIENTS OF THE LINEAR REGRESSION MODEL\n",
    "lin.coef_"
   ]
  },
  {
   "cell_type": "markdown",
   "metadata": {},
   "source": [
    "MAIN DESIGN DECISIONS AND METHODOLOGY\n",
    "---------------------------------\n",
    "- The main design decisions was managing the data and choosing predictors. First, I dropped predictors which had too many NaNs making it impossible to impute. Dropped the Departure Delay Variable predictor because it was a proxy for Arrival Delay. Needed to drop variables which are not present in both train and test set (E.g. the two airport predictors). Finally, keeping predictors to a managable number and one that lets either customers or the airline industry take actionable decision was a key decision factor. The final number of predictors I worked with is 36. \n",
    "\n",
    "- For the classification model I tried four different ones to see which one would give me a accuracy result better than 90% and AUC better than 0.6 (the base case). I chose the regularized logistic. \n",
    "\n",
    "- For the linear regression to predict the delay in time - I also chose similar number of predictors but this time 'ARRIVAL DELAY' was my dependent variable, a continuous variable. R2 is quite low showing that the combination of these predictors don't do a great job in explaining the minutes of delay, and there are probably many other factors contributing.\n",
    "\n",
    "- What I could have done to improve my predictor selection is check the correlation of the residuals with each of my predictors and dependent variable to see if there is any omitted variable bias.\n",
    "\n",
    "WHETHER A FLIGHT WILL BE DELAYED OR NOT\n",
    "------------------------------------------\n",
    "The top three predictors of whether a flight will be delayed or not are\n",
    "- (1) Airline NK. Airline NK is 6.5 times more likely to be late. During the EDA we also saw about 38% of NK's flights are delayed.\n",
    "- (2) Being on Airline HA increases likelihood of being late by 2.4 times.\n",
    "- (3) Being on Airline UA increases likelihood of being late by 1.9 times.\n",
    "Other non-flight but important predictors are:\n",
    "- scheduled departure time: With every increase in hour (i.e. an hour later in the day) a flight is likely to the late 1.27 times. Thus flights later in the day are much more likely (upto 1.7 * 24 times) to be delayed.\n",
    "- Month: Flights in June 2x more likely to be late than in January and this is supports our initial finding in the EDA that June had the highest number of delayed flights. After June, July and February are bad times to fly while Sept, Oct and Nov have the least delays.\n",
    "Summary: A customer should not fly on airlines NK and HA, try to fly as early in the day as possible and avoid flying in June if he/she cares about avoiding delays. From the airline industry perspective, they industry needs to understand why flights tend to get delayed later in the day, perhaps how airports can be better managed to avoid this. Both airport and airline personnel should prepare in advance for increased delays in June and plan to mitigate it.\n",
    "\n",
    "HOW MUCH A FLIGHT WILL BE DELAYED ONCE IT IS DELAYED\n",
    "---------------------------------------------------------\n",
    "This was a log-linear regression model which means that a 1 unit increase in X1 is associated with a 100B1% change in Y. Top three factors which increase the time of delay:\n",
    "- (1) Being on airline NK increase the delay time by 18% \n",
    "- (2) Being on HA increases the delay time by 16% \n",
    "- (3) Being on airline B6 increase delay time by 9.5%. \n",
    "- Non-airline reason that contributes to delay are: flying in the month of June increases airline delay by 11%."
   ]
  },
  {
   "cell_type": "markdown",
   "metadata": {},
   "source": [
    "\n",
    "\n",
    "\n",
    "### 209 Additional questions\n",
    "1. (10pts) Engineer two additional features that will help improve the classification model's performance.\n",
    "2. (5pts) Add one additional feature from a data source not given to you.  Do this only after you complete the rest of the exam.\n",
    "\n",
    "## Deliverable: \n",
    "A well presented notebook with well structured and documented code to answer questions 1-7 (plus additional questions for 209 students) with brief explanations and/or clarifications (10pts for overall presenation). The last cell should contain the report for question 8.\n",
    "\n",
    "\n",
    "\n",
    "## Hints\n",
    "1. For the classification model, an AUC of approximately 0.6 should be your base model. \n",
    "2. $R^2>0.03$ for the regression is good, $R^2>0.05$ very good, and $R^2>0.1$ is impressive (measured on the log scale). "
   ]
  },
  {
   "cell_type": "code",
   "execution_count": null,
   "metadata": {
    "collapsed": true
   },
   "outputs": [],
   "source": []
  },
  {
   "cell_type": "code",
   "execution_count": null,
   "metadata": {
    "collapsed": true
   },
   "outputs": [],
   "source": []
  }
 ],
 "metadata": {
  "kernelspec": {
   "display_name": "Python 3",
   "language": "python",
   "name": "python3"
  },
  "language_info": {
   "codemirror_mode": {
    "name": "ipython",
    "version": 3
   },
   "file_extension": ".py",
   "mimetype": "text/x-python",
   "name": "python",
   "nbconvert_exporter": "python",
   "pygments_lexer": "ipython3",
   "version": "3.6.1"
  }
 },
 "nbformat": 4,
 "nbformat_minor": 2
}
